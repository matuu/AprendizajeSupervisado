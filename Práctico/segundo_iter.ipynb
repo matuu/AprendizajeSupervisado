{
 "cells": [
  {
   "cell_type": "markdown",
   "metadata": {},
   "source": [
    "# DiploDatos Kaggle Competition"
   ]
  },
  {
   "cell_type": "markdown",
   "metadata": {},
   "source": [
    "Presentamos un código creado como ejemplo de base para la competición.\n",
    "\n",
    "Deben:\n",
    "\n",
    "- Explorar los datos y aprender de ellos.\n",
    "- Probar diferentes modelos y ver cuáles ajustan mejor dado los datos.\n",
    "- Para esta competencia se elige como métrica el **recall_score**. Discutir, analizar y justificar porque es necesaria está métrica para este problema. \n",
    "- **Obtener una recall mejor que la que se presenta en este ejemplo.**\n",
    "- Tratar de obtener un score lo más alto posible!\n",
    "- Discutir la elección de modelo.\n",
    "\n",
    "El análisis exploratorio y el preprocesamiento de los datos queda a libertad de cada grupo y no deben quedarse con este simple ejemplo."
   ]
  },
  {
   "cell_type": "code",
   "execution_count": 1,
   "metadata": {},
   "outputs": [],
   "source": [
    "import pandas as pd\n",
    "import numpy as np\n",
    "import matplotlib.pyplot as plt\n",
    "import seaborn as sns\n",
    "\n",
    "from sklearn.preprocessing import OneHotEncoder\n",
    "from sklearn.compose import ColumnTransformer\n",
    "from sklearn.impute import SimpleImputer\n",
    "from sklearn.model_selection import train_test_split, GridSearchCV\n",
    "from sklearn.metrics import (\n",
    "    recall_score, ConfusionMatrixDisplay, classification_report, \n",
    "    roc_auc_score, average_precision_score, precision_score\n",
    ")\n",
    "\n",
    "import xgboost as xgb"
   ]
  },
  {
   "cell_type": "markdown",
   "metadata": {},
   "source": [
    "## Leer el dataset"
   ]
  },
  {
   "cell_type": "markdown",
   "metadata": {},
   "source": [
    "### Train"
   ]
  },
  {
   "cell_type": "markdown",
   "metadata": {},
   "source": [
    "Cargamos los datos de entrenamiento que vamos a utilizar para generar nuestro modelo. "
   ]
  },
  {
   "cell_type": "code",
   "execution_count": 2,
   "metadata": {},
   "outputs": [
    {
     "name": "stdout",
     "output_type": "stream",
     "text": [
      "(95000, 10)\n",
      "             patient           age  hypertension  heart_disease           bmi  \\\n",
      "count   95000.000000  95000.000000  95000.000000   95000.000000  95000.000000   \n",
      "mean    50016.501389     41.935269      0.075074       0.039463     27.320879   \n",
      "std     28868.357071     22.514788      0.263512       0.194695      6.626335   \n",
      "min         1.000000      0.080000      0.000000       0.000000     10.010000   \n",
      "25%     25021.750000     24.000000      0.000000       0.000000     23.650000   \n",
      "50%     50024.000000     43.000000      0.000000       0.000000     27.320000   \n",
      "75%     75024.250000     60.000000      0.000000       0.000000     29.580000   \n",
      "max    100000.000000     80.000000      1.000000       1.000000     95.690000   \n",
      "\n",
      "        HbA1c_level  blood_glucose_level      diabetes  \n",
      "count  95000.000000         95000.000000  95000.000000  \n",
      "mean       5.527659           138.070537      0.085074  \n",
      "std        1.070261            40.739962      0.278993  \n",
      "min        3.500000            80.000000      0.000000  \n",
      "25%        4.800000           100.000000      0.000000  \n",
      "50%        5.800000           140.000000      0.000000  \n",
      "75%        6.200000           159.000000      0.000000  \n",
      "max        9.000000           300.000000      1.000000  \n"
     ]
    }
   ],
   "source": [
    "train_df = pd.read_csv('diabetes_prediction_dataset_train-labeled.csv')\n",
    "print(train_df.shape)\n",
    "print(train_df.describe())"
   ]
  },
  {
   "cell_type": "code",
   "execution_count": 3,
   "metadata": {},
   "outputs": [
    {
     "data": {
      "text/html": [
       "<div>\n",
       "<style scoped>\n",
       "    .dataframe tbody tr th:only-of-type {\n",
       "        vertical-align: middle;\n",
       "    }\n",
       "\n",
       "    .dataframe tbody tr th {\n",
       "        vertical-align: top;\n",
       "    }\n",
       "\n",
       "    .dataframe thead th {\n",
       "        text-align: right;\n",
       "    }\n",
       "</style>\n",
       "<table border=\"1\" class=\"dataframe\">\n",
       "  <thead>\n",
       "    <tr style=\"text-align: right;\">\n",
       "      <th></th>\n",
       "      <th>patient</th>\n",
       "      <th>gender</th>\n",
       "      <th>age</th>\n",
       "      <th>hypertension</th>\n",
       "      <th>heart_disease</th>\n",
       "      <th>smoking_history</th>\n",
       "      <th>bmi</th>\n",
       "      <th>HbA1c_level</th>\n",
       "      <th>blood_glucose_level</th>\n",
       "      <th>diabetes</th>\n",
       "    </tr>\n",
       "  </thead>\n",
       "  <tbody>\n",
       "    <tr>\n",
       "      <th>0</th>\n",
       "      <td>20432</td>\n",
       "      <td>Male</td>\n",
       "      <td>4.0</td>\n",
       "      <td>0</td>\n",
       "      <td>0</td>\n",
       "      <td>never</td>\n",
       "      <td>19.28</td>\n",
       "      <td>3.5</td>\n",
       "      <td>155</td>\n",
       "      <td>0</td>\n",
       "    </tr>\n",
       "    <tr>\n",
       "      <th>1</th>\n",
       "      <td>49682</td>\n",
       "      <td>Female</td>\n",
       "      <td>50.0</td>\n",
       "      <td>0</td>\n",
       "      <td>0</td>\n",
       "      <td>former</td>\n",
       "      <td>27.32</td>\n",
       "      <td>5.7</td>\n",
       "      <td>159</td>\n",
       "      <td>0</td>\n",
       "    </tr>\n",
       "    <tr>\n",
       "      <th>2</th>\n",
       "      <td>73886</td>\n",
       "      <td>Female</td>\n",
       "      <td>43.0</td>\n",
       "      <td>0</td>\n",
       "      <td>0</td>\n",
       "      <td>never</td>\n",
       "      <td>21.54</td>\n",
       "      <td>4.5</td>\n",
       "      <td>145</td>\n",
       "      <td>0</td>\n",
       "    </tr>\n",
       "    <tr>\n",
       "      <th>3</th>\n",
       "      <td>53144</td>\n",
       "      <td>Male</td>\n",
       "      <td>64.0</td>\n",
       "      <td>0</td>\n",
       "      <td>0</td>\n",
       "      <td>current</td>\n",
       "      <td>28.22</td>\n",
       "      <td>6.0</td>\n",
       "      <td>130</td>\n",
       "      <td>0</td>\n",
       "    </tr>\n",
       "    <tr>\n",
       "      <th>4</th>\n",
       "      <td>98507</td>\n",
       "      <td>Male</td>\n",
       "      <td>10.0</td>\n",
       "      <td>0</td>\n",
       "      <td>0</td>\n",
       "      <td>No Info</td>\n",
       "      <td>15.46</td>\n",
       "      <td>6.1</td>\n",
       "      <td>140</td>\n",
       "      <td>0</td>\n",
       "    </tr>\n",
       "  </tbody>\n",
       "</table>\n",
       "</div>"
      ],
      "text/plain": [
       "   patient  gender   age  hypertension  heart_disease smoking_history    bmi  \\\n",
       "0    20432    Male   4.0             0              0           never  19.28   \n",
       "1    49682  Female  50.0             0              0          former  27.32   \n",
       "2    73886  Female  43.0             0              0           never  21.54   \n",
       "3    53144    Male  64.0             0              0         current  28.22   \n",
       "4    98507    Male  10.0             0              0         No Info  15.46   \n",
       "\n",
       "   HbA1c_level  blood_glucose_level  diabetes  \n",
       "0          3.5                  155         0  \n",
       "1          5.7                  159         0  \n",
       "2          4.5                  145         0  \n",
       "3          6.0                  130         0  \n",
       "4          6.1                  140         0  "
      ]
     },
     "execution_count": 3,
     "metadata": {},
     "output_type": "execute_result"
    }
   ],
   "source": [
    "train_df.head()"
   ]
  },
  {
   "cell_type": "code",
   "execution_count": 4,
   "metadata": {},
   "outputs": [
    {
     "name": "stdout",
     "output_type": "stream",
     "text": [
      "<class 'pandas.core.frame.DataFrame'>\n",
      "RangeIndex: 95000 entries, 0 to 94999\n",
      "Data columns (total 10 columns):\n",
      " #   Column               Non-Null Count  Dtype  \n",
      "---  ------               --------------  -----  \n",
      " 0   patient              95000 non-null  int64  \n",
      " 1   gender               95000 non-null  object \n",
      " 2   age                  95000 non-null  float64\n",
      " 3   hypertension         95000 non-null  int64  \n",
      " 4   heart_disease        95000 non-null  int64  \n",
      " 5   smoking_history      95000 non-null  object \n",
      " 6   bmi                  95000 non-null  float64\n",
      " 7   HbA1c_level          95000 non-null  float64\n",
      " 8   blood_glucose_level  95000 non-null  int64  \n",
      " 9   diabetes             95000 non-null  int64  \n",
      "dtypes: float64(3), int64(5), object(2)\n",
      "memory usage: 7.2+ MB\n"
     ]
    }
   ],
   "source": [
    "train_df.info()"
   ]
  },
  {
   "cell_type": "markdown",
   "metadata": {},
   "source": [
    "La columna ***`diabetes`*** es la columna que debemos predecir. En el dataset de Test esta columna tiene valores nulos."
   ]
  },
  {
   "cell_type": "markdown",
   "metadata": {},
   "source": [
    "### Test"
   ]
  },
  {
   "cell_type": "markdown",
   "metadata": {},
   "source": [
    "Cargamos los datos de test. Estos datos son los que van a utilizar para predecir si las personas tienen diabetes y generar alrchivo `submision.csv` para utilizar en la competencia de Kaggle."
   ]
  },
  {
   "cell_type": "code",
   "execution_count": 5,
   "metadata": {},
   "outputs": [
    {
     "name": "stdout",
     "output_type": "stream",
     "text": [
      "(5000, 10)\n",
      "            patient          age  hypertension  heart_disease          bmi  \\\n",
      "count   5000.000000  5000.000000   5000.000000    5000.000000  5000.000000   \n",
      "mean   49696.473600    40.947016      0.070600       0.038600    27.318644   \n",
      "std    28855.568156    22.537466      0.256181       0.192659     6.832943   \n",
      "min        7.000000     0.160000      0.000000       0.000000    10.620000   \n",
      "25%    24720.750000    23.000000      0.000000       0.000000    23.410000   \n",
      "50%    49522.500000    41.000000      0.000000       0.000000    27.320000   \n",
      "75%    74686.000000    59.000000      0.000000       0.000000    29.632500   \n",
      "max    99970.000000    80.000000      1.000000       1.000000    88.760000   \n",
      "\n",
      "       HbA1c_level  blood_glucose_level  diabetes  \n",
      "count  5000.000000          5000.000000       0.0  \n",
      "mean      5.524620           137.821000       NaN  \n",
      "std       1.078559            40.101933       NaN  \n",
      "min       3.500000            80.000000       NaN  \n",
      "25%       4.800000           100.000000       NaN  \n",
      "50%       5.800000           140.000000       NaN  \n",
      "75%       6.200000           159.000000       NaN  \n",
      "max       9.000000           300.000000       NaN  \n"
     ]
    }
   ],
   "source": [
    "test_df = pd.read_csv('diabetes_prediction_dataset_test.csv')\n",
    "print(test_df.shape)\n",
    "print(test_df.describe())"
   ]
  },
  {
   "cell_type": "code",
   "execution_count": 6,
   "metadata": {},
   "outputs": [
    {
     "data": {
      "text/html": [
       "<div>\n",
       "<style scoped>\n",
       "    .dataframe tbody tr th:only-of-type {\n",
       "        vertical-align: middle;\n",
       "    }\n",
       "\n",
       "    .dataframe tbody tr th {\n",
       "        vertical-align: top;\n",
       "    }\n",
       "\n",
       "    .dataframe thead th {\n",
       "        text-align: right;\n",
       "    }\n",
       "</style>\n",
       "<table border=\"1\" class=\"dataframe\">\n",
       "  <thead>\n",
       "    <tr style=\"text-align: right;\">\n",
       "      <th></th>\n",
       "      <th>patient</th>\n",
       "      <th>gender</th>\n",
       "      <th>age</th>\n",
       "      <th>hypertension</th>\n",
       "      <th>heart_disease</th>\n",
       "      <th>smoking_history</th>\n",
       "      <th>bmi</th>\n",
       "      <th>HbA1c_level</th>\n",
       "      <th>blood_glucose_level</th>\n",
       "      <th>diabetes</th>\n",
       "    </tr>\n",
       "  </thead>\n",
       "  <tbody>\n",
       "    <tr>\n",
       "      <th>0</th>\n",
       "      <td>49267</td>\n",
       "      <td>Male</td>\n",
       "      <td>53.0</td>\n",
       "      <td>0</td>\n",
       "      <td>0</td>\n",
       "      <td>never</td>\n",
       "      <td>31.99</td>\n",
       "      <td>4.5</td>\n",
       "      <td>126</td>\n",
       "      <td>NaN</td>\n",
       "    </tr>\n",
       "    <tr>\n",
       "      <th>1</th>\n",
       "      <td>82280</td>\n",
       "      <td>Female</td>\n",
       "      <td>22.0</td>\n",
       "      <td>0</td>\n",
       "      <td>0</td>\n",
       "      <td>never</td>\n",
       "      <td>25.96</td>\n",
       "      <td>6.6</td>\n",
       "      <td>130</td>\n",
       "      <td>NaN</td>\n",
       "    </tr>\n",
       "    <tr>\n",
       "      <th>2</th>\n",
       "      <td>33216</td>\n",
       "      <td>Female</td>\n",
       "      <td>37.0</td>\n",
       "      <td>0</td>\n",
       "      <td>0</td>\n",
       "      <td>never</td>\n",
       "      <td>22.24</td>\n",
       "      <td>6.2</td>\n",
       "      <td>126</td>\n",
       "      <td>NaN</td>\n",
       "    </tr>\n",
       "    <tr>\n",
       "      <th>3</th>\n",
       "      <td>94551</td>\n",
       "      <td>Female</td>\n",
       "      <td>29.0</td>\n",
       "      <td>0</td>\n",
       "      <td>0</td>\n",
       "      <td>not current</td>\n",
       "      <td>31.01</td>\n",
       "      <td>5.0</td>\n",
       "      <td>80</td>\n",
       "      <td>NaN</td>\n",
       "    </tr>\n",
       "    <tr>\n",
       "      <th>4</th>\n",
       "      <td>43760</td>\n",
       "      <td>Male</td>\n",
       "      <td>30.0</td>\n",
       "      <td>0</td>\n",
       "      <td>0</td>\n",
       "      <td>ever</td>\n",
       "      <td>28.66</td>\n",
       "      <td>6.6</td>\n",
       "      <td>100</td>\n",
       "      <td>NaN</td>\n",
       "    </tr>\n",
       "  </tbody>\n",
       "</table>\n",
       "</div>"
      ],
      "text/plain": [
       "   patient  gender   age  hypertension  heart_disease smoking_history    bmi  \\\n",
       "0    49267    Male  53.0             0              0           never  31.99   \n",
       "1    82280  Female  22.0             0              0           never  25.96   \n",
       "2    33216  Female  37.0             0              0           never  22.24   \n",
       "3    94551  Female  29.0             0              0     not current  31.01   \n",
       "4    43760    Male  30.0             0              0            ever  28.66   \n",
       "\n",
       "   HbA1c_level  blood_glucose_level  diabetes  \n",
       "0          4.5                  126       NaN  \n",
       "1          6.6                  130       NaN  \n",
       "2          6.2                  126       NaN  \n",
       "3          5.0                   80       NaN  \n",
       "4          6.6                  100       NaN  "
      ]
     },
     "execution_count": 6,
     "metadata": {},
     "output_type": "execute_result"
    }
   ],
   "source": [
    "test_df.head()"
   ]
  },
  {
   "cell_type": "code",
   "execution_count": 7,
   "metadata": {},
   "outputs": [
    {
     "name": "stdout",
     "output_type": "stream",
     "text": [
      "<class 'pandas.core.frame.DataFrame'>\n",
      "RangeIndex: 5000 entries, 0 to 4999\n",
      "Data columns (total 10 columns):\n",
      " #   Column               Non-Null Count  Dtype  \n",
      "---  ------               --------------  -----  \n",
      " 0   patient              5000 non-null   int64  \n",
      " 1   gender               5000 non-null   object \n",
      " 2   age                  5000 non-null   float64\n",
      " 3   hypertension         5000 non-null   int64  \n",
      " 4   heart_disease        5000 non-null   int64  \n",
      " 5   smoking_history      5000 non-null   object \n",
      " 6   bmi                  5000 non-null   float64\n",
      " 7   HbA1c_level          5000 non-null   float64\n",
      " 8   blood_glucose_level  5000 non-null   int64  \n",
      " 9   diabetes             0 non-null      float64\n",
      "dtypes: float64(4), int64(4), object(2)\n",
      "memory usage: 390.8+ KB\n"
     ]
    }
   ],
   "source": [
    "test_df.info()"
   ]
  },
  {
   "cell_type": "markdown",
   "metadata": {},
   "source": [
    "## Analisis de los datos \n"
   ]
  },
  {
   "cell_type": "code",
   "execution_count": 8,
   "metadata": {},
   "outputs": [
    {
     "data": {
      "text/html": [
       "<style type=\"text/css\">\n",
       "#T_bde5b thead>tr>th {\n",
       "  text-align: left;\n",
       "}\n",
       "#T_bde5b_row0_col0, #T_bde5b_row1_col0, #T_bde5b_row2_col0, #T_bde5b_row3_col0, #T_bde5b_row4_col0, #T_bde5b_row5_col0, #T_bde5b_row6_col0, #T_bde5b_row7_col0, #T_bde5b_row8_col0, #T_bde5b_row9_col0 {\n",
       "  text-align: left;\n",
       "  font-size: 12px;\n",
       "  vertical-align: middle;\n",
       "  width: 5%;\n",
       "  max-width: 50px;\n",
       "  min-width: 20px;\n",
       "}\n",
       "#T_bde5b_row0_col1, #T_bde5b_row1_col1, #T_bde5b_row2_col1, #T_bde5b_row3_col1, #T_bde5b_row4_col1, #T_bde5b_row5_col1, #T_bde5b_row6_col1, #T_bde5b_row7_col1, #T_bde5b_row8_col1, #T_bde5b_row9_col1 {\n",
       "  text-align: left;\n",
       "  font-size: 12px;\n",
       "  vertical-align: middle;\n",
       "  width: 15%;\n",
       "  max-width: 200px;\n",
       "  min-width: 100px;\n",
       "  word-break: break-word;\n",
       "}\n",
       "#T_bde5b_row0_col2, #T_bde5b_row1_col2, #T_bde5b_row2_col2, #T_bde5b_row3_col2, #T_bde5b_row4_col2, #T_bde5b_row5_col2, #T_bde5b_row6_col2, #T_bde5b_row7_col2, #T_bde5b_row8_col2, #T_bde5b_row9_col2 {\n",
       "  text-align: left;\n",
       "  font-size: 12px;\n",
       "  vertical-align: middle;\n",
       "  width: 30%;\n",
       "  min-width: 100px;\n",
       "}\n",
       "#T_bde5b_row0_col3, #T_bde5b_row1_col3, #T_bde5b_row2_col3, #T_bde5b_row3_col3, #T_bde5b_row4_col3, #T_bde5b_row5_col3, #T_bde5b_row6_col3, #T_bde5b_row7_col3, #T_bde5b_row8_col3, #T_bde5b_row9_col3 {\n",
       "  text-align: left;\n",
       "  font-size: 12px;\n",
       "  vertical-align: middle;\n",
       "  width: 25%;\n",
       "  min-width: 100px;\n",
       "}\n",
       "#T_bde5b_row0_col4, #T_bde5b_row1_col4, #T_bde5b_row2_col4, #T_bde5b_row3_col4, #T_bde5b_row4_col4, #T_bde5b_row5_col4, #T_bde5b_row6_col4, #T_bde5b_row7_col4, #T_bde5b_row8_col4, #T_bde5b_row9_col4 {\n",
       "  text-align: left;\n",
       "  font-size: 12px;\n",
       "  vertical-align: middle;\n",
       "  width: 20%;\n",
       "  min-width: 150px;\n",
       "}\n",
       "#T_bde5b_row0_col5, #T_bde5b_row1_col5, #T_bde5b_row2_col5, #T_bde5b_row3_col5, #T_bde5b_row4_col5, #T_bde5b_row5_col5, #T_bde5b_row6_col5, #T_bde5b_row7_col5, #T_bde5b_row8_col5, #T_bde5b_row9_col5 {\n",
       "  text-align: left;\n",
       "  font-size: 12px;\n",
       "  vertical-align: middle;\n",
       "  width: 10%;\n",
       "}\n",
       "</style>\n",
       "<table id=\"T_bde5b\">\n",
       "  <caption><strong>Data Frame Summary</strong><br>train_df<br>Dimensions: 95,000 x 10<br>Duplicates: 0</caption>\n",
       "  <thead>\n",
       "    <tr>\n",
       "      <th id=\"T_bde5b_level0_col0\" class=\"col_heading level0 col0\" >No</th>\n",
       "      <th id=\"T_bde5b_level0_col1\" class=\"col_heading level0 col1\" >Variable</th>\n",
       "      <th id=\"T_bde5b_level0_col2\" class=\"col_heading level0 col2\" >Stats / Values</th>\n",
       "      <th id=\"T_bde5b_level0_col3\" class=\"col_heading level0 col3\" >Freqs / (% of Valid)</th>\n",
       "      <th id=\"T_bde5b_level0_col4\" class=\"col_heading level0 col4\" >Graph</th>\n",
       "      <th id=\"T_bde5b_level0_col5\" class=\"col_heading level0 col5\" >Missing</th>\n",
       "    </tr>\n",
       "  </thead>\n",
       "  <tbody>\n",
       "    <tr>\n",
       "      <td id=\"T_bde5b_row0_col0\" class=\"data row0 col0\" >1</td>\n",
       "      <td id=\"T_bde5b_row0_col1\" class=\"data row0 col1\" ><strong>patient</strong><br>[int64]</td>\n",
       "      <td id=\"T_bde5b_row0_col2\" class=\"data row0 col2\" >Mean (sd) : 50016.5 (28868.4)<br>min < med < max:<br>1.0 < 50024.0 < 100000.0<br>IQR (CV) : 50002.5 (1.7)</td>\n",
       "      <td id=\"T_bde5b_row0_col3\" class=\"data row0 col3\" >95,000 distinct values</td>\n",
       "      <td id=\"T_bde5b_row0_col4\" class=\"data row0 col4\" ><img src = \"data:image/png;base64, iVBORw0KGgoAAAANSUhEUgAAAKoAAABGCAYAAABc8A97AAAAOnRFWHRTb2Z0d2FyZQBNYXRwbG90bGliIHZlcnNpb24zLjEwLjEsIGh0dHBzOi8vbWF0cGxvdGxpYi5vcmcvc2/+5QAAAAlwSFlzAAAPYQAAD2EBqD+naQAAAkZJREFUeJzt172PElEUhvFzYd1cPmTCh9DRWNpNQkNjZ+kfu609JNYUNlY0hITAEMYlEhwrExuRmYOLb/L82uXsOTd5CghFURjwv6vd+wDgGg/3PuCSEELDzB4rjn8viuL5lve8BOebzRzvvsHumpn9qDh78e6/huo83nN47PV6H5IkaVUZ3u12hxDCJzM7Vtzvub3qrOvNZq53u3afz+dXeZ6/bbfbX2u12qns/H6/34YQnv4U68VQQwiNfr//sdPpdMsu9h5+Op2imb2bTCafB4PBvszsarV6PZ/P34/H40G9Xi8dqud2z6znzWa+d3t3L5fL7mKxeJOm6ZfRaLQtM5tlWZzNZt3NZvNoZuVDNbPHTqfTnU6nz0mSlHq45/Df5psxxtNwOPxWZna73TZijM00TY+O3ZVuv8FspTeb+d59i91mZq1W61hl3swal/541XfUJElKL/ce/mvew7u7yvwtZr3uuftf4Vc/JBAqJBAqJBAqJBAqJBAqJBAqJBAqJBAqJBAqJBAqJBAqJBAqJBAqJBAqJBAqJBAqJBAqJBAqJBAqJBAqJBAqJBAqJBAqJBAqJBAqJBAqJBAqJBAqJBAqJBAqJBAqJBAqJBAqJBAqJBAqJBAqJBAqJBAqJBAqJBAqJBAqJBAqJBAqJBAqJBAqJBAqJBAqJBAqJBAqJBAqJBAqJBAqJBAqJBAqJBAqJBAqJBAqJBAqJBAqJBAqJBAqJDxc86Esy2LZf3w4HKKZWZ7ncb1eN19yXnW36t3e+Wv6+glzeDC4AjEJlQAAAABJRU5ErkJggg==\"></img></td>\n",
       "      <td id=\"T_bde5b_row0_col5\" class=\"data row0 col5\" >0<br>(0.0%)</td>\n",
       "    </tr>\n",
       "    <tr>\n",
       "      <td id=\"T_bde5b_row1_col0\" class=\"data row1 col0\" >2</td>\n",
       "      <td id=\"T_bde5b_row1_col1\" class=\"data row1 col1\" ><strong>gender</strong><br>[object]</td>\n",
       "      <td id=\"T_bde5b_row1_col2\" class=\"data row1 col2\" >1. Female<br>2. Male<br>3. Other</td>\n",
       "      <td id=\"T_bde5b_row1_col3\" class=\"data row1 col3\" >55,563 (58.5%)<br>39,421 (41.5%)<br>16 (0.0%)</td>\n",
       "      <td id=\"T_bde5b_row1_col4\" class=\"data row1 col4\" ><img src = \"data:image/png;base64, iVBORw0KGgoAAAANSUhEUgAAAJsAAABFCAYAAABdVZTTAAAAOnRFWHRTb2Z0d2FyZQBNYXRwbG90bGliIHZlcnNpb24zLjEwLjEsIGh0dHBzOi8vbWF0cGxvdGxpYi5vcmcvc2/+5QAAAAlwSFlzAAAPYQAAD2EBqD+naQAAAY9JREFUeJzt28FtwkAYBeG3yCLhYstCooSkB4pIsSnCRaQHhNhDIFycQ2rIrOSdr4IfNAIZ8cq6rpEIu9YHqB8lySHJvvUhnXiu63pvfUQrw/F4/BjHcW59SA9qrddSymevwQ3jOM7n8/k+TdOj9TFbdrvdXpdlmS+Xyz5Jn7ElyTRNj9Pp9N36mA4cWh/Qkg8IwhibMMYmjLEJY2zCGJswxiaMsQljbMIYmzDGJoyxCWNswhibMEPy91+r1odsne9xMtRar8uyzOn8v1aEWus1ybP1Ha24QWB1vUEoTvlE8ZOt808bUvfrqt4XT6Su11Uunliuq3wKx/ijrjDGJoyxCWNswhibMMYmjLEJY2zCGJswxiaMsQljbMIYmzDGJkzX66peX3cr3a+rel88kdwguEHAuK4SxgcEYYxNmF0p5b2U4lOZ/t0uyVuSl9aHaPv8GhXG2IQxNmGMTRhjE8bYhDE2YYxNGGMTxtiEMTZhjE0YYxPG2IQxNmGMTZhdkq8kP60P0fa5rhLGr1FhfgHnRXM6cwavOAAAAABJRU5ErkJggg==\"></img></td>\n",
       "      <td id=\"T_bde5b_row1_col5\" class=\"data row1 col5\" >0<br>(0.0%)</td>\n",
       "    </tr>\n",
       "    <tr>\n",
       "      <td id=\"T_bde5b_row2_col0\" class=\"data row2 col0\" >3</td>\n",
       "      <td id=\"T_bde5b_row2_col1\" class=\"data row2 col1\" ><strong>age</strong><br>[float64]</td>\n",
       "      <td id=\"T_bde5b_row2_col2\" class=\"data row2 col2\" >Mean (sd) : 41.9 (22.5)<br>min < med < max:<br>0.1 < 43.0 < 80.0<br>IQR (CV) : 36.0 (1.9)</td>\n",
       "      <td id=\"T_bde5b_row2_col3\" class=\"data row2 col3\" >102 distinct values</td>\n",
       "      <td id=\"T_bde5b_row2_col4\" class=\"data row2 col4\" ><img src = \"data:image/png;base64, iVBORw0KGgoAAAANSUhEUgAAAKoAAABGCAYAAABc8A97AAAAOnRFWHRTb2Z0d2FyZQBNYXRwbG90bGliIHZlcnNpb24zLjEwLjEsIGh0dHBzOi8vbWF0cGxvdGxpYi5vcmcvc2/+5QAAAAlwSFlzAAAPYQAAD2EBqD+naQAAAq1JREFUeJzt3U2O2jAYgOHPZRgZkGLxI9hxgZG6QGLDAbrsYXuELlh0zQ3YIaEoCGYQ4aeLttJUaiGJ8eAvep+9SRZvMLYjYS6XiwCx+/ToGwCKeHr0DeBvxpiWiDx7fMThcrm83et+YkGoETHGtPr9/tckSbpVP2Oz2aTGmG91i5VQ4/KcJEl3Npu9Oef2ZQdnWWbn83l3vV4/iwih4jqP6Ts5n89N51w6HA5fK16+VXFc1Aj1znym7zzP7el0etnv999FpGqotUSo91d5+l4ul93FYtE+Ho+NUDenFaEG4pzbl52+0zSt5bR9D+yjQgW+UWvmdDo1RSQxxlQZ7rUH67kHfPXahPofviv3e99PEbvdrpnn+efxeNxoNBqlt7d89mB994BvXbu2oXo+3bbX631xznXKDnzkyv1wODxZa9uTyWQ/Go3SMmPvsAdbeRFZ5Nq1DNX36c7z3IrIy3Q6/TEYDDZlxsawcu90OqUXcr95L+aqLCKLXLuWoYrnCc+f2Ky1OSv3ONQ1VBGp/nQTW3yiDlXjggZhRBsqR5F4L9pQhaNIvBNzqCLCUSR+uRlqyNMGoKiroYY+bQCKuvWNGvS0ASiq0G/UUKcNQFG85gcVCBUqRL89hY/j+S5r0NNAQoWI+L/LGvo0kFAhIn7vsoqEPw0MGmrMUwn+req7rKFPA4OFGvtUAl2ChRr7VAJdgv9GjXUqgS7so0IFQoUKhAoVCBUqECpUIFSoQKhQgVChAqFCBUKFCoQKFQgVKhAqVCBUqECoUIFQoQKhQgVChQqEChUIFSoQKlQgVKhAqFCBUKECoUIFQoUKhAoVCBUqECpUIFSoQKhQgVChAqFCBUKFCoQKFQgVKhT6s4ksy2zZD95ut1ZEZLfb2dVq1f7I8VqvrfW+fccX6esn/VOayDC7+WwAAAAASUVORK5CYII=\"></img></td>\n",
       "      <td id=\"T_bde5b_row2_col5\" class=\"data row2 col5\" >0<br>(0.0%)</td>\n",
       "    </tr>\n",
       "    <tr>\n",
       "      <td id=\"T_bde5b_row3_col0\" class=\"data row3 col0\" >4</td>\n",
       "      <td id=\"T_bde5b_row3_col1\" class=\"data row3 col1\" ><strong>hypertension</strong><br>[int64]</td>\n",
       "      <td id=\"T_bde5b_row3_col2\" class=\"data row3 col2\" >1. 0<br>2. 1</td>\n",
       "      <td id=\"T_bde5b_row3_col3\" class=\"data row3 col3\" >87,868 (92.5%)<br>7,132 (7.5%)</td>\n",
       "      <td id=\"T_bde5b_row3_col4\" class=\"data row3 col4\" ><img src = \"data:image/png;base64, iVBORw0KGgoAAAANSUhEUgAAAJsAAAAuCAYAAAA/ZmtKAAAAOnRFWHRTb2Z0d2FyZQBNYXRwbG90bGliIHZlcnNpb24zLjEwLjEsIGh0dHBzOi8vbWF0cGxvdGxpYi5vcmcvc2/+5QAAAAlwSFlzAAAPYQAAD2EBqD+naQAAAThJREFUeJzt2zFqw0AURdE/QZi4mUEItBgtIovNImY3QmiK2LiZFEFNKv0xesbinlrFLy4CG71QazVAIZjZ1cwurz4Eb+lRa73tfbgbhuErxtgfeRHOqZSyhBC+9wbXxRj7aZpuKaX70cfhPNZ1/cw59/M8X8xsX2xmZiml+ziOP4dehzO6eh7+OOoK4D9igwyxQYbYIENskCE2yBAbZIgNMsQGGWKDDLFBhtggQ2yQITbIEBtkOrO/D+FefQjeS0szXSllyTn35vwQDiilLGb22Ps8gxc8wzV4CUz5oNLyZnPVDGzcUz7vfAvYuKZ8LfMtYNMy5eNXK5rwpy5kiA0yxAYZYoMMsUGG2CBDbJAhNsgQG2SIDTLEBhligwyxQYbYIENskHFN+Zj84RnuKZ93vgVsGLxA5hcKW2rf/3je7wAAAABJRU5ErkJggg==\"></img></td>\n",
       "      <td id=\"T_bde5b_row3_col5\" class=\"data row3 col5\" >0<br>(0.0%)</td>\n",
       "    </tr>\n",
       "    <tr>\n",
       "      <td id=\"T_bde5b_row4_col0\" class=\"data row4 col0\" >5</td>\n",
       "      <td id=\"T_bde5b_row4_col1\" class=\"data row4 col1\" ><strong>heart_disease</strong><br>[int64]</td>\n",
       "      <td id=\"T_bde5b_row4_col2\" class=\"data row4 col2\" >1. 0<br>2. 1</td>\n",
       "      <td id=\"T_bde5b_row4_col3\" class=\"data row4 col3\" >91,251 (96.1%)<br>3,749 (3.9%)</td>\n",
       "      <td id=\"T_bde5b_row4_col4\" class=\"data row4 col4\" ><img src = \"data:image/png;base64, iVBORw0KGgoAAAANSUhEUgAAAJsAAAAuCAYAAAA/ZmtKAAAAOnRFWHRTb2Z0d2FyZQBNYXRwbG90bGliIHZlcnNpb24zLjEwLjEsIGh0dHBzOi8vbWF0cGxvdGxpYi5vcmcvc2/+5QAAAAlwSFlzAAAPYQAAD2EBqD+naQAAATlJREFUeJzt2zFqwzAYhuFfxYRmkTAGH8aH6GF7CN3GGGtoQhZ16FRjGWKaT6C+z+jpH14MCf5cztkABWdmVzO71D4ETXnknG/bh90wDB/e+77GRWhTSmlxzn1ug+u89/00TbcQwr3WcWjHuq7vMcZ+nueLmf2OzcwshHAfx/GrynVo0XXv4Zv6CvxfxAYZYoMMsUGG2CBDbJAhNsgQG2SIDTLEBhligwyxQYbYIENskCE2yHRmPx+81T4EbThqqUspLTHG3gofvAHPSiktZvbYPmfwglfYHbw4pnxQOXqz7dYJnFWc8pXmWMBZu1O+ozkWcNbRlI9fp/hT/KkLGWKDDLFBhtggQ2yQITbIEBtkiA0yxAYZYoMMsUGG2CBDbJAhNsgQG2R2p3xM+/AKxSlfaY4FnMXgBTLfCltq386s3W4AAAAASUVORK5CYII=\"></img></td>\n",
       "      <td id=\"T_bde5b_row4_col5\" class=\"data row4 col5\" >0<br>(0.0%)</td>\n",
       "    </tr>\n",
       "    <tr>\n",
       "      <td id=\"T_bde5b_row5_col0\" class=\"data row5 col0\" >6</td>\n",
       "      <td id=\"T_bde5b_row5_col1\" class=\"data row5 col1\" ><strong>smoking_history</strong><br>[object]</td>\n",
       "      <td id=\"T_bde5b_row5_col2\" class=\"data row5 col2\" >1. No Info<br>2. never<br>3. former<br>4. current<br>5. not current<br>6. ever</td>\n",
       "      <td id=\"T_bde5b_row5_col3\" class=\"data row5 col3\" >33,958 (35.7%)<br>33,389 (35.1%)<br>8,911 (9.4%)<br>8,821 (9.3%)<br>6,129 (6.5%)<br>3,792 (4.0%)</td>\n",
       "      <td id=\"T_bde5b_row5_col4\" class=\"data row5 col4\" ><img src = \"data:image/png;base64, iVBORw0KGgoAAAANSUhEUgAAAJsAAACKCAYAAAC96ziyAAAAOnRFWHRTb2Z0d2FyZQBNYXRwbG90bGliIHZlcnNpb24zLjEwLjEsIGh0dHBzOi8vbWF0cGxvdGxpYi5vcmcvc2/+5QAAAAlwSFlzAAAPYQAAD2EBqD+naQAAAqBJREFUeJzt201q21AAhdGnYkIzkTAGL8aL6GK7CO3GGGvQhEzUQQadJMH6u1LUc1bwDB/PSOhWfd8XSPix9gH4f4iNGLERIzZiqlLKcynlae2DLOSt7/uXtQ/Bu8PpdPpV1/Vx7YMsoeu6W1VVvwW3DYe6ro+Xy+WlaZrXtQ8zp/v9/rNt2+P1en0qpYhtAw6llNI0zev5fP6z9mEW8Lz2AfjHAwIxYiNGbMSIjRixESM2YsRGjNiIERsxYiNGbMSIjRixEXMo5f1znLUPMrc9/qbv7tB13a1t22PZ4ec4XdfdSilva5+Ddz4LJ6YyUiZlzzebW21jdjt4MXbZnl0OXoxdtmnPg5fdPV1/d17qEiM2YsRGjNiIERsxYiNGbMSIjRixESM2YsRGjNiIERsxYiNml+uqvf2evdjtusqyantsEIixriJm6s3m9uBhk9ZVFkwMMXpdZcHEUFPXVbt6gmVZXuoSIzZixEaM2IgRGzFiI0ZsxIiNGLERIzZixEaM2IgRGzFiI2b0usqCiaEmrassmBjCBoEY6ypiptxsbjUGGb2usqxiqFHrKssqxpiyrrKsYhAvdYkRGzFiI0ZsxIiNGLERIzZixEaM2IgRGzFiI0ZsxIiNmFGDF2MXxhg9eDF2YSifhRNj8EKMBwRihvyN+ttkkofXVdZUTPXQusqaijkMWVdZUzGJBwRixEaM2IgRGzFiI0ZsxIiNGLERIzZixEaM2IgRGzFiI+ahdZU1FXN4eF1lTcVUPgsnxrqKmK9uNjcZs/p08GLgwtw+HLwYuLCErwYvBi7MyktdYsRGjNiIERsxYiNGbMSIjRixESM2YsRGjNiIERsxYiNGbMR8uK6ypmIJn66rrKmYmw0CMdZVxHhAIEZsxIiNmL/61EOmY/Ii9wAAAABJRU5ErkJggg==\"></img></td>\n",
       "      <td id=\"T_bde5b_row5_col5\" class=\"data row5 col5\" >0<br>(0.0%)</td>\n",
       "    </tr>\n",
       "    <tr>\n",
       "      <td id=\"T_bde5b_row6_col0\" class=\"data row6 col0\" >7</td>\n",
       "      <td id=\"T_bde5b_row6_col1\" class=\"data row6 col1\" ><strong>bmi</strong><br>[float64]</td>\n",
       "      <td id=\"T_bde5b_row6_col2\" class=\"data row6 col2\" >Mean (sd) : 27.3 (6.6)<br>min < med < max:<br>10.0 < 27.3 < 95.7<br>IQR (CV) : 5.9 (4.1)</td>\n",
       "      <td id=\"T_bde5b_row6_col3\" class=\"data row6 col3\" >4,204 distinct values</td>\n",
       "      <td id=\"T_bde5b_row6_col4\" class=\"data row6 col4\" ><img src = \"data:image/png;base64, iVBORw0KGgoAAAANSUhEUgAAAKoAAABGCAYAAABc8A97AAAAOnRFWHRTb2Z0d2FyZQBNYXRwbG90bGliIHZlcnNpb24zLjEwLjEsIGh0dHBzOi8vbWF0cGxvdGxpYi5vcmcvc2/+5QAAAAlwSFlzAAAPYQAAD2EBqD+naQAAAnFJREFUeJzt3LuO2lAYReH/hIEYiAyIBDpaikgpKHmIPOw8Qgq3NLwBHZKxbEFguDlNlCqZwRfG3mR9/YFTLCHZEtulaWpA3X2o+gLALZ6qvsBrnHNtM2vlPH5M03Rf5n1QndqG6pxrD4fD777vD/KcT5Ikcs49E+tjqG2oZtbyfX8wn8/3vV7vkOVgHMdeEASDMAxbZkaoD6DOoZqZWa/XO4xGo585jrZLvwwqw8MUJBAqJBAqJBAqJBAqJBAqJBAqJBAqJBAqJBAqJBAqJBAqJBAqJBAqJBAqJBAqJBAqJBAqJBAqJBAqJBAqJBAqJNz179IFl0786/XaLPM+0HW3UIsunZxOJ+9yuXw9HA4/zCzP//rxQO75i5p76cTMbLVaDZbLZed8PjfucTlouftSSt6lkyiKWDrBHzxMQQKhQgKhQgKhQgKhQgKhQgKhQgKhQgKhQgKhQgKhQgKhQgKhQgKhQgKhQgKhQgKhQgKhQgKhQgKhQgKhQgKhQgKhQgKhQgKhQgKhQsKbkz4FFvlY40NpXg21yCJf1Wt8l8ulaWa+cy7vRxzTNN2XeCUU8NYvau5FvirX+Ha7XfN0On2bTCaNRqOReUnQzCxJksg590ys9XDTml+eRb4q1/iOx+OT53md2Wx2GI/HUdbzcRx7QRAMwjBsmRmh1sDdZyer1O12c01e/sbsZY3w1A8JhAoJhAoJhAoJD/0wVUTB97C8gy0Zof5F0fewvIMt302hxnHsZf3g7XbrmZntdjtvvV533vN80e/ebDafPM/rTKdT1+/3X7Kc3e/3HxeLxZcwDD8755Ks3/0fe0nT9J8/Cr8ApnbOr5/D5iAAAAAASUVORK5CYII=\"></img></td>\n",
       "      <td id=\"T_bde5b_row6_col5\" class=\"data row6 col5\" >0<br>(0.0%)</td>\n",
       "    </tr>\n",
       "    <tr>\n",
       "      <td id=\"T_bde5b_row7_col0\" class=\"data row7 col0\" >8</td>\n",
       "      <td id=\"T_bde5b_row7_col1\" class=\"data row7 col1\" ><strong>HbA1c_level</strong><br>[float64]</td>\n",
       "      <td id=\"T_bde5b_row7_col2\" class=\"data row7 col2\" >Mean (sd) : 5.5 (1.1)<br>min < med < max:<br>3.5 < 5.8 < 9.0<br>IQR (CV) : 1.4 (5.2)</td>\n",
       "      <td id=\"T_bde5b_row7_col3\" class=\"data row7 col3\" >18 distinct values</td>\n",
       "      <td id=\"T_bde5b_row7_col4\" class=\"data row7 col4\" ><img src = \"data:image/png;base64, iVBORw0KGgoAAAANSUhEUgAAAKoAAABGCAYAAABc8A97AAAAOnRFWHRTb2Z0d2FyZQBNYXRwbG90bGliIHZlcnNpb24zLjEwLjEsIGh0dHBzOi8vbWF0cGxvdGxpYi5vcmcvc2/+5QAAAAlwSFlzAAAPYQAAD2EBqD+naQAAAoBJREFUeJzt3b1O21AYh/H35IM6hNgKSGTL0g2kDoxcQMdebC+hQy4gZe3EEkVCkVPcWDEn7oDKBPlwbOx/eX77UU6kJ4BzbF6X57kBTdeqewPAPjp1b6CpnHM9MzspuHyd5/mqzP18dIT6Cudc7+Li4lsYhsMi65fL5cI5951Yy0OorzsJw3B4e3u7iqIoPWRhHMfBZDIZPjw8nJgZoZaEULeIoii9vLz8U2Bpr/TNfHBcTEECoUICoUICoUICoUICoUICoUICoUICoUICoUICoUICoUICoUICoUICoUICoUICoUICoUICoUICoUICoUICoUICoUICoUICoUICoUICoUICoUICoUICoUICoUICoUICoUICoUICoUIC/8O/At77rpmFzrkiyxn98wpCLVmSJN0sy76Mx+N2u90+aKKKGaN/3kKoJVuv150gCE5vbm7S0Wi0OGQto3/etjNUJtgV0+/3Gf1Toq2h1j3Bjg8J/tn1E7W2CXZ1f0jQLHv9jVrTBDvGPOJF4y+mGPMIM77whwhChQRChQRChQRChQRChQRChQRChYRKv/A/8r7McLPZdEveEkRVFuqx92VmWRZ476/TNP1hZkVOpvAfqSzUY+7LNDO7v78f3t3dnT49PbWr2B+0VH7WX/S+zMViwVk9XnAxBQmECgmECgmECgmECgmECgmNfxQFOqp8aphQG+bIY2ez59+SmxrWBufn51+jKOoXWbzrqeG9Qo3jODj0hR8fHwMzsyRJgvl8fvqe6+M4Drz3HTvuPoPOe7/v2Ww2OObY2XvfTZLk89nZ2a9Wq5W911qz5yNvM7u+urr6ORgMfh+ydrVafZpOp1ufGv4LrPAP0jqFbTYAAAAASUVORK5CYII=\"></img></td>\n",
       "      <td id=\"T_bde5b_row7_col5\" class=\"data row7 col5\" >0<br>(0.0%)</td>\n",
       "    </tr>\n",
       "    <tr>\n",
       "      <td id=\"T_bde5b_row8_col0\" class=\"data row8 col0\" >9</td>\n",
       "      <td id=\"T_bde5b_row8_col1\" class=\"data row8 col1\" ><strong>blood_glucose_level</strong><br>[int64]</td>\n",
       "      <td id=\"T_bde5b_row8_col2\" class=\"data row8 col2\" >Mean (sd) : 138.1 (40.7)<br>min < med < max:<br>80.0 < 140.0 < 300.0<br>IQR (CV) : 59.0 (3.4)</td>\n",
       "      <td id=\"T_bde5b_row8_col3\" class=\"data row8 col3\" >18 distinct values</td>\n",
       "      <td id=\"T_bde5b_row8_col4\" class=\"data row8 col4\" ><img src = \"data:image/png;base64, iVBORw0KGgoAAAANSUhEUgAAAKoAAABGCAYAAABc8A97AAAAOnRFWHRTb2Z0d2FyZQBNYXRwbG90bGliIHZlcnNpb24zLjEwLjEsIGh0dHBzOi8vbWF0cGxvdGxpYi5vcmcvc2/+5QAAAAlwSFlzAAAPYQAAD2EBqD+naQAAAlBJREFUeJzt3cGK2lAYhuH/GGeIY5ogFt1l02VhFi5zEb3Y3oLgovfQvQhhiJiOeIjpohW6Gk2MNZ+8z/43B30JORg4rq5rA/pucO8FAJcY3nsBH3HOjczsueX4oa7r9y7Xg/vpbajOudF0Ov0Wx/Gkzfx2u31zzn0n1sfQ21DN7DmO40mWZe9JkuybDBZFES6Xy1me55+dc9uW1+eO3CN9DtXMzJIk2c9ms19NZsqyfPLev6ZpGgRB0CjyE+7I/dL7UNs4HA7DMAxfFovFfj6fvzWdL4oiXK1WkzzPn82MUHvgIUM9GY/Hje/G/xh1uhhc5Wyo7LzRBx+Gys4bfXHujnrVzpvnPHTlomfUNjvvv3jOQyf4CxUSCBUSCBUSCBUSCBUSCBUSCBUSCBUSCBUSCBUSCBUSCBUSCBUSCBUSCBUSCBUSCBUSCBUSCBUSCBUSCBUSCBUSCBUSCBUSCBUSCBUSCBUSCBUSCBUSCBUSCBUSCBUSCBUSCBUSCBUSCBUSCBUSCBUSCBUSCBUSCBUSHvp06XvhoOPuEWrHOOj4Ngi1exx0fAOEeiMcdNwtNlOQQKiQQKiQQKiQQKiQQKiQQKiQQKiQQKiQwD9T6MwtX8YhVHTi1i/jEGrPVFX1ZGaxc67tRwzM7HiH2TiKolmWZdtbvIxzUahFUYRNLnyaqapqaO2/9Ph4PA7bXHu324VmZmVZhpvN5qXp/JVrb73u9Xr9yXv/mqZpEARBox/b7E/kZVl+iaLo52Aw8P9r1szMex9WVfXVe//DzBqv/Zzf6OzkGgDeqrUAAAAASUVORK5CYII=\"></img></td>\n",
       "      <td id=\"T_bde5b_row8_col5\" class=\"data row8 col5\" >0<br>(0.0%)</td>\n",
       "    </tr>\n",
       "    <tr>\n",
       "      <td id=\"T_bde5b_row9_col0\" class=\"data row9 col0\" >10</td>\n",
       "      <td id=\"T_bde5b_row9_col1\" class=\"data row9 col1\" ><strong>diabetes</strong><br>[int64]</td>\n",
       "      <td id=\"T_bde5b_row9_col2\" class=\"data row9 col2\" >1. 0<br>2. 1</td>\n",
       "      <td id=\"T_bde5b_row9_col3\" class=\"data row9 col3\" >86,918 (91.5%)<br>8,082 (8.5%)</td>\n",
       "      <td id=\"T_bde5b_row9_col4\" class=\"data row9 col4\" ><img src = \"data:image/png;base64, iVBORw0KGgoAAAANSUhEUgAAAJsAAAAuCAYAAAA/ZmtKAAAAOnRFWHRTb2Z0d2FyZQBNYXRwbG90bGliIHZlcnNpb24zLjEwLjEsIGh0dHBzOi8vbWF0cGxvdGxpYi5vcmcvc2/+5QAAAAlwSFlzAAAPYQAAD2EBqD+naQAAATNJREFUeJzt2zFqw0AQheHZIEzc7CIEOowOkcPmEHsbIbRFbNxsirQpMgN6xsr/9YIpfgQ2eqn3boBCMrOrmV2efQhezqP3fvM8MEzT9JFzHo+6COfUWttSSp+e4Iac87gsy62Ucj/yOJzHvu/vtdZxXdeLmf09NjOzUsp9nuevw67DGV29D7wdcQXwG2KDDLFBhtggQ2yQITbIEBtkiA0yxAYZYoMMsUGG2CBDbJAhNsgQG2QGs5+P4Z59CF5HtJehtbbVWkcLfAyH/6u1tpnZw/MMgxdEuQcviSkfVKJvNnfVQGjKF5lxAe4pX3TGBUSnfPxyhRt/6kKG2CBDbJAhNsgQG2SIDTLEBhligwyxQYbYIENskCE2yBAbZIgNMsQGGfeUj9kfokJTvsiMC2DwAplvCltq3/EIu5AAAAAASUVORK5CYII=\"></img></td>\n",
       "      <td id=\"T_bde5b_row9_col5\" class=\"data row9 col5\" >0<br>(0.0%)</td>\n",
       "    </tr>\n",
       "  </tbody>\n",
       "</table>\n"
      ],
      "text/plain": [
       "<pandas.io.formats.style.Styler at 0x771f9c06fb60>"
      ]
     },
     "execution_count": 8,
     "metadata": {},
     "output_type": "execute_result"
    }
   ],
   "source": [
    "from summarytools import dfSummary\n",
    "\n",
    "dfSummary(train_df)"
   ]
  },
  {
   "cell_type": "markdown",
   "metadata": {},
   "source": [
    "Sin valores nulos en el dataset"
   ]
  },
  {
   "cell_type": "code",
   "execution_count": 9,
   "metadata": {},
   "outputs": [
    {
     "data": {
      "text/plain": [
       "<Axes: xlabel='diabetes'>"
      ]
     },
     "execution_count": 9,
     "metadata": {},
     "output_type": "execute_result"
    },
    {
     "data": {
      "image/png": "[encoded data removed]",
      "text/plain": [
       "<Figure size 640x480 with 1 Axes>"
      ]
     },
     "metadata": {},
     "output_type": "display_data"
    }
   ],
   "source": [
    "# Balanceo de clases\n",
    "train_df.groupby(\"patient\").diabetes.mean().value_counts().plot(kind='bar')"
   ]
  },
  {
   "cell_type": "markdown",
   "metadata": {},
   "source": [
    "**¡Clases desbalanceadas!** Tiene sentido que haya más casos negativos que positivos, mas allá de que es una enfermedad frecuente, proporcionalmente, siendo una muestra representativa de la población, hay más gente sin diabetes que con ella.\n",
    "\n",
    "¿Y que sucede si analizamos genero y edad?"
   ]
  },
  {
   "cell_type": "code",
   "execution_count": 10,
   "metadata": {},
   "outputs": [
    {
     "data": {
      "text/plain": [
       "<Axes: xlabel='gender'>"
      ]
     },
     "execution_count": 10,
     "metadata": {},
     "output_type": "execute_result"
    },
    {
     "data": {
      "image/png": "[encoded data removed]",
      "text/plain": [
       "<Figure size 640x480 with 1 Axes>"
      ]
     },
     "metadata": {},
     "output_type": "display_data"
    }
   ],
   "source": [
    "train_df.gender.value_counts().plot(kind='bar')"
   ]
  },
  {
   "cell_type": "code",
   "execution_count": 11,
   "metadata": {},
   "outputs": [
    {
     "data": {
      "text/plain": [
       "(16, 10)"
      ]
     },
     "execution_count": 11,
     "metadata": {},
     "output_type": "execute_result"
    }
   ],
   "source": [
    "train_df[train_df[\"gender\"] == \"Other\"].shape"
   ]
  },
  {
   "cell_type": "code",
   "execution_count": 12,
   "metadata": {},
   "outputs": [
    {
     "data": {
      "text/plain": [
       "<Axes: xlabel='gender'>"
      ]
     },
     "execution_count": 12,
     "metadata": {},
     "output_type": "execute_result"
    },
    {
     "data": {
      "image/png": "[encoded data removed]",
      "text/plain": [
       "<Figure size 640x480 with 1 Axes>"
      ]
     },
     "metadata": {},
     "output_type": "display_data"
    }
   ],
   "source": [
    "train_df[train_df[\"diabetes\"] == 1].gender.value_counts().plot(kind='bar')"
   ]
  },
  {
   "cell_type": "code",
   "execution_count": 13,
   "metadata": {},
   "outputs": [
    {
     "data": {
      "text/plain": [
       "<Axes: xlabel='gender'>"
      ]
     },
     "execution_count": 13,
     "metadata": {},
     "output_type": "execute_result"
    },
    {
     "data": {
      "image/png": "[encoded data removed]",
      "text/plain": [
       "<Figure size 640x480 with 1 Axes>"
      ]
     },
     "metadata": {},
     "output_type": "display_data"
    }
   ],
   "source": [
    "train_df[train_df[\"diabetes\"] == 0].gender.value_counts().plot(kind='bar')"
   ]
  },
  {
   "cell_type": "code",
   "execution_count": 14,
   "metadata": {},
   "outputs": [
    {
     "data": {
      "text/plain": [
       "<Axes: >"
      ]
     },
     "execution_count": 14,
     "metadata": {},
     "output_type": "execute_result"
    },
    {
     "data": {
      "image/png": "[encoded data removed]",
      "text/plain": [
       "<Figure size 640x480 with 1 Axes>"
      ]
     },
     "metadata": {},
     "output_type": "display_data"
    }
   ],
   "source": [
    "train_df.age.hist(bins=10)"
   ]
  },
  {
   "cell_type": "code",
   "execution_count": 15,
   "metadata": {},
   "outputs": [
    {
     "name": "stdout",
     "output_type": "stream",
     "text": [
      "Edad mínima 0.08 y edad máxima 80.0\n"
     ]
    }
   ],
   "source": [
    "print(\"Edad mínima %s y edad máxima %s\" % (train_df.age.min(), train_df.age.max()))"
   ]
  },
  {
   "cell_type": "markdown",
   "metadata": {},
   "source": [
    "Necesitamos construir nuestros conjuntos de datos para realizar los entrenamientos:"
   ]
  },
  {
   "cell_type": "code",
   "execution_count": 16,
   "metadata": {},
   "outputs": [],
   "source": [
    "patientId = train_df.patient\n",
    "y = train_df.diabetes\n",
    "X = train_df.drop('diabetes',axis=1)\n",
    "\n",
    "preprocessor = ColumnTransformer(\n",
    "    transformers=[\n",
    "        ('num', 'passthrough', ['age', 'bmi', 'HbA1c_level', 'blood_glucose_level', 'hypertension', 'heart_disease']),\n",
    "        ('cat', OneHotEncoder(), ['gender', 'smoking_history'])\n",
    "    ])\n",
    "\n",
    "X = pd.DataFrame(preprocessor.fit_transform(X), columns=preprocessor.get_feature_names_out())\n"
   ]
  },
  {
   "cell_type": "code",
   "execution_count": 17,
   "metadata": {},
   "outputs": [
    {
     "data": {
      "text/html": [
       "<div>\n",
       "<style scoped>\n",
       "    .dataframe tbody tr th:only-of-type {\n",
       "        vertical-align: middle;\n",
       "    }\n",
       "\n",
       "    .dataframe tbody tr th {\n",
       "        vertical-align: top;\n",
       "    }\n",
       "\n",
       "    .dataframe thead th {\n",
       "        text-align: right;\n",
       "    }\n",
       "</style>\n",
       "<table border=\"1\" class=\"dataframe\">\n",
       "  <thead>\n",
       "    <tr style=\"text-align: right;\">\n",
       "      <th></th>\n",
       "      <th>num__age</th>\n",
       "      <th>num__bmi</th>\n",
       "      <th>num__HbA1c_level</th>\n",
       "      <th>num__blood_glucose_level</th>\n",
       "      <th>num__hypertension</th>\n",
       "      <th>num__heart_disease</th>\n",
       "      <th>cat__gender_Female</th>\n",
       "      <th>cat__gender_Male</th>\n",
       "      <th>cat__gender_Other</th>\n",
       "      <th>cat__smoking_history_No Info</th>\n",
       "      <th>cat__smoking_history_current</th>\n",
       "      <th>cat__smoking_history_ever</th>\n",
       "      <th>cat__smoking_history_former</th>\n",
       "      <th>cat__smoking_history_never</th>\n",
       "      <th>cat__smoking_history_not current</th>\n",
       "    </tr>\n",
       "  </thead>\n",
       "  <tbody>\n",
       "    <tr>\n",
       "      <th>0</th>\n",
       "      <td>4.0</td>\n",
       "      <td>19.28</td>\n",
       "      <td>3.5</td>\n",
       "      <td>155.0</td>\n",
       "      <td>0.0</td>\n",
       "      <td>0.0</td>\n",
       "      <td>0.0</td>\n",
       "      <td>1.0</td>\n",
       "      <td>0.0</td>\n",
       "      <td>0.0</td>\n",
       "      <td>0.0</td>\n",
       "      <td>0.0</td>\n",
       "      <td>0.0</td>\n",
       "      <td>1.0</td>\n",
       "      <td>0.0</td>\n",
       "    </tr>\n",
       "    <tr>\n",
       "      <th>1</th>\n",
       "      <td>50.0</td>\n",
       "      <td>27.32</td>\n",
       "      <td>5.7</td>\n",
       "      <td>159.0</td>\n",
       "      <td>0.0</td>\n",
       "      <td>0.0</td>\n",
       "      <td>1.0</td>\n",
       "      <td>0.0</td>\n",
       "      <td>0.0</td>\n",
       "      <td>0.0</td>\n",
       "      <td>0.0</td>\n",
       "      <td>0.0</td>\n",
       "      <td>1.0</td>\n",
       "      <td>0.0</td>\n",
       "      <td>0.0</td>\n",
       "    </tr>\n",
       "    <tr>\n",
       "      <th>2</th>\n",
       "      <td>43.0</td>\n",
       "      <td>21.54</td>\n",
       "      <td>4.5</td>\n",
       "      <td>145.0</td>\n",
       "      <td>0.0</td>\n",
       "      <td>0.0</td>\n",
       "      <td>1.0</td>\n",
       "      <td>0.0</td>\n",
       "      <td>0.0</td>\n",
       "      <td>0.0</td>\n",
       "      <td>0.0</td>\n",
       "      <td>0.0</td>\n",
       "      <td>0.0</td>\n",
       "      <td>1.0</td>\n",
       "      <td>0.0</td>\n",
       "    </tr>\n",
       "    <tr>\n",
       "      <th>3</th>\n",
       "      <td>64.0</td>\n",
       "      <td>28.22</td>\n",
       "      <td>6.0</td>\n",
       "      <td>130.0</td>\n",
       "      <td>0.0</td>\n",
       "      <td>0.0</td>\n",
       "      <td>0.0</td>\n",
       "      <td>1.0</td>\n",
       "      <td>0.0</td>\n",
       "      <td>0.0</td>\n",
       "      <td>1.0</td>\n",
       "      <td>0.0</td>\n",
       "      <td>0.0</td>\n",
       "      <td>0.0</td>\n",
       "      <td>0.0</td>\n",
       "    </tr>\n",
       "    <tr>\n",
       "      <th>4</th>\n",
       "      <td>10.0</td>\n",
       "      <td>15.46</td>\n",
       "      <td>6.1</td>\n",
       "      <td>140.0</td>\n",
       "      <td>0.0</td>\n",
       "      <td>0.0</td>\n",
       "      <td>0.0</td>\n",
       "      <td>1.0</td>\n",
       "      <td>0.0</td>\n",
       "      <td>1.0</td>\n",
       "      <td>0.0</td>\n",
       "      <td>0.0</td>\n",
       "      <td>0.0</td>\n",
       "      <td>0.0</td>\n",
       "      <td>0.0</td>\n",
       "    </tr>\n",
       "  </tbody>\n",
       "</table>\n",
       "</div>"
      ],
      "text/plain": [
       "   num__age  num__bmi  num__HbA1c_level  num__blood_glucose_level  \\\n",
       "0       4.0     19.28               3.5                     155.0   \n",
       "1      50.0     27.32               5.7                     159.0   \n",
       "2      43.0     21.54               4.5                     145.0   \n",
       "3      64.0     28.22               6.0                     130.0   \n",
       "4      10.0     15.46               6.1                     140.0   \n",
       "\n",
       "   num__hypertension  num__heart_disease  cat__gender_Female  \\\n",
       "0                0.0                 0.0                 0.0   \n",
       "1                0.0                 0.0                 1.0   \n",
       "2                0.0                 0.0                 1.0   \n",
       "3                0.0                 0.0                 0.0   \n",
       "4                0.0                 0.0                 0.0   \n",
       "\n",
       "   cat__gender_Male  cat__gender_Other  cat__smoking_history_No Info  \\\n",
       "0               1.0                0.0                           0.0   \n",
       "1               0.0                0.0                           0.0   \n",
       "2               0.0                0.0                           0.0   \n",
       "3               1.0                0.0                           0.0   \n",
       "4               1.0                0.0                           1.0   \n",
       "\n",
       "   cat__smoking_history_current  cat__smoking_history_ever  \\\n",
       "0                           0.0                        0.0   \n",
       "1                           0.0                        0.0   \n",
       "2                           0.0                        0.0   \n",
       "3                           1.0                        0.0   \n",
       "4                           0.0                        0.0   \n",
       "\n",
       "   cat__smoking_history_former  cat__smoking_history_never  \\\n",
       "0                          0.0                         1.0   \n",
       "1                          1.0                         0.0   \n",
       "2                          0.0                         1.0   \n",
       "3                          0.0                         0.0   \n",
       "4                          0.0                         0.0   \n",
       "\n",
       "   cat__smoking_history_not current  \n",
       "0                               0.0  \n",
       "1                               0.0  \n",
       "2                               0.0  \n",
       "3                               0.0  \n",
       "4                               0.0  "
      ]
     },
     "execution_count": 17,
     "metadata": {},
     "output_type": "execute_result"
    }
   ],
   "source": [
    "X.head()"
   ]
  },
  {
   "cell_type": "code",
   "execution_count": 18,
   "metadata": {},
   "outputs": [
    {
     "data": {
      "text/plain": [
       "(95000, 15)"
      ]
     },
     "execution_count": 18,
     "metadata": {},
     "output_type": "execute_result"
    }
   ],
   "source": [
    "X.shape"
   ]
  },
  {
   "cell_type": "code",
   "execution_count": 19,
   "metadata": {},
   "outputs": [
    {
     "data": {
      "image/png": "[encoded data removed]",
      "text/plain": [
       "<Figure size 800x600 with 2 Axes>"
      ]
     },
     "metadata": {},
     "output_type": "display_data"
    }
   ],
   "source": [
    "plt.figure(figsize=(8, 6))\n",
    "sns.heatmap(X.corr(), annot=True, cmap=\"coolwarm\", fmt=\".2f\")\n",
    "plt.title(\"Mapa de Calor de la Matriz de Correlación\")\n",
    "plt.show()\n"
   ]
  },
  {
   "cell_type": "markdown",
   "metadata": {},
   "source": [
    "Se observa cierta correlación entre la edad del paciente, y la hipertensión, enfermedades del corazón y el historial como fumador:\n",
    "- La hipertensión en edades tempranas es muy poco común.\n",
    "- Los problemas cardíacos en niños suelen ser congenitos.\n",
    "- Las personas no fuman en edades tempranas, por lo que tiene sentido que se observen más casos en edades superiores."
   ]
  },
  {
   "cell_type": "markdown",
   "metadata": {},
   "source": [
    "A partir de los datos en las variables `X` e `y` separamos en train y en test:"
   ]
  },
  {
   "cell_type": "code",
   "execution_count": 20,
   "metadata": {},
   "outputs": [],
   "source": [
    "X_train, X_test, y_train, y_test = train_test_split(X, y, train_size=0.8, random_state = 42)"
   ]
  },
  {
   "cell_type": "markdown",
   "metadata": {},
   "source": [
    "### Planteo de modelos\n",
    "\n",
    "En esta segunda iteración, hemos cambiado el preprocesamiento, para ver si el XGBoost da mejores resultados (o al menos mantiene el recall pero mejora la precision)."
   ]
  },
  {
   "cell_type": "code",
   "execution_count": 21,
   "metadata": {},
   "outputs": [
    {
     "name": "stdout",
     "output_type": "stream",
     "text": [
      "10.754516208859194\n"
     ]
    }
   ],
   "source": [
    "#calculamos el desbalance\n",
    "negative, positive = train_df.diabetes.value_counts()\n",
    "total = negative + positive\n",
    "scale_pos_weight = (negative/total) / (positive/total)\n",
    "print(scale_pos_weight)\n"
   ]
  },
  {
   "cell_type": "code",
   "execution_count": 22,
   "metadata": {},
   "outputs": [
    {
     "name": "stdout",
     "output_type": "stream",
     "text": [
      "              precision    recall  f1-score   support\n",
      "\n",
      "           0       0.99      0.90      0.95     17401\n",
      "           1       0.46      0.91      0.62      1599\n",
      "\n",
      "    accuracy                           0.90     19000\n",
      "   macro avg       0.73      0.91      0.78     19000\n",
      "weighted avg       0.95      0.90      0.92     19000\n",
      "\n",
      "AUC-ROC: 0.978\n",
      "AUC-PR: 0.884\n",
      "Recall test: 91.24%\n"
     ]
    }
   ],
   "source": [
    "import xgboost as xgb\n",
    "\n",
    "xgb_model = xgb.XGBClassifier(\n",
    "    scale_pos_weight=scale_pos_weight,\n",
    "    max_depth=6,\n",
    "    learning_rate=0.1,\n",
    "    n_estimators=100,\n",
    "    random_state=42\n",
    ")\n",
    "\n",
    "xgb_model.fit(X_train, y_train)\n",
    "y_pred = xgb_model.predict(X_test)\n",
    "y_pred_proba = xgb_model.predict_proba(X_test)[:, 1]\n",
    "print(classification_report(y_test, y_pred))\n",
    "print(f\"AUC-ROC: {roc_auc_score(y_test, y_pred_proba):.3f}\")\n",
    "print(f\"AUC-PR: {average_precision_score(y_test, y_pred_proba):.3f}\")\n",
    "print(f\"Recall test: %.2f%%\" % (recall_score(y_test, y_pred) * 100.0))"
   ]
  },
  {
   "cell_type": "markdown",
   "metadata": {},
   "source": [
    "Estos resultados son muy similares a los obtenidos en el primer iteración.\n",
    "Veamos si mejoras ajustando hiperparámetros"
   ]
  },
  {
   "cell_type": "code",
   "execution_count": 23,
   "metadata": {},
   "outputs": [
    {
     "name": "stdout",
     "output_type": "stream",
     "text": [
      "Fitting 5 folds for each of 243 candidates, totalling 1215 fits\n"
     ]
    },
    {
     "name": "stdout",
     "output_type": "stream",
     "text": [
      "Mejores hiperparámetros: {'colsample_bytree': 0.9, 'learning_rate': 0.01, 'max_depth': 5, 'n_estimators': 100, 'subsample': 0.8}\n",
      "Mejor recall: 0.9440050401210771\n",
      "              precision    recall  f1-score   support\n",
      "\n",
      "           0       0.99      0.85      0.92     17401\n",
      "           1       0.36      0.93      0.52      1599\n",
      "\n",
      "    accuracy                           0.86     19000\n",
      "   macro avg       0.68      0.89      0.72     19000\n",
      "weighted avg       0.94      0.86      0.88     19000\n",
      "\n",
      "AUC-ROC: 0.973\n",
      "AUC-PR: 0.865\n",
      "Recall test: 93.18%\n"
     ]
    }
   ],
   "source": [
    "\n",
    "from sklearn.model_selection import GridSearchCV\n",
    "\n",
    "param_grid = {\n",
    "        'max_depth': [5, 6, 7],\n",
    "        'learning_rate': [0.01, 0.1, 0.2],\n",
    "        'n_estimators': [100, 200, 300],\n",
    "        'subsample': [0.7, 0.8, 0.9],\n",
    "        'colsample_bytree': [0.7, 0.8, 0.9]\n",
    "    }\n",
    "xgb_clf = xgb.XGBClassifier(scale_pos_weight=scale_pos_weight, random_state=42)\n",
    "grid_search = GridSearchCV(estimator= xgb_clf, param_grid=param_grid, cv=5, scoring='recall', n_jobs=-1, verbose=1)\n",
    "grid_search.fit(X_train, y_train)\n",
    "\n",
    "print(\"Mejores hiperparámetros:\", grid_search.best_params_)\n",
    "print(\"Mejor recall:\", grid_search.best_score_)\n",
    "\n",
    "best_xgb_clf = grid_search.best_estimator_\n",
    "best_xgb_clf.fit(X_train, y_train)\n",
    "\n",
    "y_pred = best_xgb_clf.predict(X_test)\n",
    "y_pred_proba = best_xgb_clf.predict_proba(X_test)[:, 1]\n",
    "print(classification_report(y_test, y_pred))\n",
    "print(f\"AUC-ROC: {roc_auc_score(y_test, y_pred_proba):.3f}\")\n",
    "print(f\"AUC-PR: {average_precision_score(y_test, y_pred_proba):.3f}\")\n",
    "print(f\"Recall test: %.2f%%\" % (recall_score(y_test, y_pred) * 100.0))\n"
   ]
  },
  {
   "cell_type": "markdown",
   "metadata": {},
   "source": [
    "Seleccionando los mejores valores del grid, vamos a probar otros pesos para ver si mejora el recall"
   ]
  },
  {
   "cell_type": "code",
   "execution_count": 24,
   "metadata": {},
   "outputs": [
    {
     "name": "stdout",
     "output_type": "stream",
     "text": [
      "################################################## 8 ##################################################\n",
      "Recall: 0.829\n",
      "              precision    recall  f1-score   support\n",
      "\n",
      "           0       0.98      0.95      0.97     17401\n",
      "           1       0.60      0.83      0.70      1599\n",
      "\n",
      "    accuracy                           0.94     19000\n",
      "   macro avg       0.79      0.89      0.83     19000\n",
      "weighted avg       0.95      0.94      0.94     19000\n",
      "\n",
      "################################################## 10.754 ##################################################\n",
      "Recall: 0.932\n",
      "              precision    recall  f1-score   support\n",
      "\n",
      "           0       0.99      0.85      0.92     17401\n",
      "           1       0.36      0.93      0.52      1599\n",
      "\n",
      "    accuracy                           0.86     19000\n",
      "   macro avg       0.68      0.89      0.72     19000\n",
      "weighted avg       0.94      0.86      0.88     19000\n",
      "\n",
      "################################################## 15 ##################################################\n",
      "Recall: 0.957\n",
      "              precision    recall  f1-score   support\n",
      "\n",
      "           0       1.00      0.82      0.90     17401\n",
      "           1       0.33      0.96      0.49      1599\n",
      "\n",
      "    accuracy                           0.83     19000\n",
      "   macro avg       0.66      0.89      0.69     19000\n",
      "weighted avg       0.94      0.83      0.86     19000\n",
      "\n",
      "################################################## 20 ##################################################\n",
      "Recall: 0.974\n",
      "              precision    recall  f1-score   support\n",
      "\n",
      "           0       1.00      0.78      0.88     17401\n",
      "           1       0.29      0.97      0.45      1599\n",
      "\n",
      "    accuracy                           0.80     19000\n",
      "   macro avg       0.64      0.88      0.66     19000\n",
      "weighted avg       0.94      0.80      0.84     19000\n",
      "\n"
     ]
    }
   ],
   "source": [
    "# Prueba diferentes pesos manteniendo los otros parámetros optimizados\n",
    "best_params = {\n",
    "    'colsample_bytree': 0.9,\n",
    "    'learning_rate': 0.01, \n",
    "    'max_depth': 5,\n",
    "    'n_estimators': 100,\n",
    "    'subsample': 0.8\n",
    "}\n",
    "\n",
    "# Probar pesos alrededor del actual\n",
    "for weight in [8, 10.754, 15, 20]:\n",
    "    xgb_test = xgb.XGBClassifier(scale_pos_weight=weight, random_state=42, **best_params)\n",
    "    # Evaluar recall\n",
    "    xgb_test.fit(X_train, y_train)\n",
    "    y_pred = xgb_test.predict(X_test)\n",
    "    print(\"#\" * 50, weight, \"#\" * 50)\n",
    "    print(f\"Recall: {recall_score(y_test, y_pred):.3f}\")\n",
    "    print(f\"{classification_report(y_test, y_pred)}\")\n",
    "    "
   ]
  },
  {
   "cell_type": "markdown",
   "metadata": {},
   "source": [
    "Con pesos más agresivos, el recall sube a 0.974. Toca comprobar con cross validation si no tenemos overfitting."
   ]
  },
  {
   "cell_type": "code",
   "execution_count": 25,
   "metadata": {},
   "outputs": [
    {
     "name": "stdout",
     "output_type": "stream",
     "text": [
      "Recall CV: 0.982 (+/- 0.009)\n"
     ]
    }
   ],
   "source": [
    "from sklearn.model_selection import cross_val_score\n",
    "\n",
    "xgb_final = xgb.XGBClassifier(\n",
    "    scale_pos_weight=20,\n",
    "    colsample_bytree=0.9,\n",
    "    learning_rate=0.01,\n",
    "    max_depth=5,\n",
    "    n_estimators=100,\n",
    "    subsample=0.8,\n",
    "    random_state=42\n",
    ")\n",
    "\n",
    "recall_cv = cross_val_score(xgb_final, X_train, y_train, cv=5, scoring='recall')\n",
    "print(f\"Recall CV: {recall_cv.mean():.3f} (+/- {recall_cv.std() * 2:.3f})\")"
   ]
  },
  {
   "cell_type": "code",
   "execution_count": 27,
   "metadata": {},
   "outputs": [
    {
     "name": "stdout",
     "output_type": "stream",
     "text": [
      "              precision    recall  f1-score   support\n",
      "\n",
      "           0       1.00      0.78      0.87     86918\n",
      "           1       0.29      0.98      0.45      8082\n",
      "\n",
      "    accuracy                           0.80     95000\n",
      "   macro avg       0.64      0.88      0.66     95000\n",
      "weighted avg       0.94      0.80      0.84     95000\n",
      "\n",
      "AUC-ROC: 0.975\n",
      "AUC-PR: 0.871\n",
      "Recall test: 98.06%\n"
     ]
    }
   ],
   "source": [
    "# Entrenar el modelo final. Pero esta vez con todo el dataset (dado que el verdadero conjunto de tests es el que está en kaggle)\n",
    "xgb_final = xgb.XGBClassifier(\n",
    "    scale_pos_weight=20,\n",
    "    colsample_bytree=0.9,\n",
    "    learning_rate=0.01,\n",
    "    max_depth=5,\n",
    "    n_estimators=100,\n",
    "    subsample=0.8,\n",
    "    random_state=42\n",
    ")\n",
    "xgb_final.fit(X, y)\n",
    "y_pred = xgb_final.predict(X)\n",
    "y_pred_proba = xgb_final.predict_proba(X)[:, 1]\n",
    "print(classification_report(y, y_pred))\n",
    "print(f\"AUC-ROC: {roc_auc_score(y, y_pred_proba):.3f}\")\n",
    "print(f\"AUC-PR: {average_precision_score(y, y_pred_proba):.3f}\")\n",
    "print(f\"Recall test: %.2f%%\" % (recall_score(y, y_pred) * 100.0))"
   ]
  },
  {
   "cell_type": "markdown",
   "metadata": {},
   "source": [
    "## Generar la salida para entregar"
   ]
  },
  {
   "cell_type": "code",
   "execution_count": 32,
   "metadata": {},
   "outputs": [
    {
     "data": {
      "text/html": [
       "<div>\n",
       "<style scoped>\n",
       "    .dataframe tbody tr th:only-of-type {\n",
       "        vertical-align: middle;\n",
       "    }\n",
       "\n",
       "    .dataframe tbody tr th {\n",
       "        vertical-align: top;\n",
       "    }\n",
       "\n",
       "    .dataframe thead th {\n",
       "        text-align: right;\n",
       "    }\n",
       "</style>\n",
       "<table border=\"1\" class=\"dataframe\">\n",
       "  <thead>\n",
       "    <tr style=\"text-align: right;\">\n",
       "      <th></th>\n",
       "      <th>patient</th>\n",
       "      <th>gender</th>\n",
       "      <th>age</th>\n",
       "      <th>hypertension</th>\n",
       "      <th>heart_disease</th>\n",
       "      <th>smoking_history</th>\n",
       "      <th>bmi</th>\n",
       "      <th>HbA1c_level</th>\n",
       "      <th>blood_glucose_level</th>\n",
       "      <th>diabetes</th>\n",
       "    </tr>\n",
       "  </thead>\n",
       "  <tbody>\n",
       "    <tr>\n",
       "      <th>0</th>\n",
       "      <td>49267</td>\n",
       "      <td>Male</td>\n",
       "      <td>53.0</td>\n",
       "      <td>0</td>\n",
       "      <td>0</td>\n",
       "      <td>never</td>\n",
       "      <td>31.99</td>\n",
       "      <td>4.5</td>\n",
       "      <td>126</td>\n",
       "      <td>NaN</td>\n",
       "    </tr>\n",
       "    <tr>\n",
       "      <th>1</th>\n",
       "      <td>82280</td>\n",
       "      <td>Female</td>\n",
       "      <td>22.0</td>\n",
       "      <td>0</td>\n",
       "      <td>0</td>\n",
       "      <td>never</td>\n",
       "      <td>25.96</td>\n",
       "      <td>6.6</td>\n",
       "      <td>130</td>\n",
       "      <td>NaN</td>\n",
       "    </tr>\n",
       "    <tr>\n",
       "      <th>2</th>\n",
       "      <td>33216</td>\n",
       "      <td>Female</td>\n",
       "      <td>37.0</td>\n",
       "      <td>0</td>\n",
       "      <td>0</td>\n",
       "      <td>never</td>\n",
       "      <td>22.24</td>\n",
       "      <td>6.2</td>\n",
       "      <td>126</td>\n",
       "      <td>NaN</td>\n",
       "    </tr>\n",
       "    <tr>\n",
       "      <th>3</th>\n",
       "      <td>94551</td>\n",
       "      <td>Female</td>\n",
       "      <td>29.0</td>\n",
       "      <td>0</td>\n",
       "      <td>0</td>\n",
       "      <td>not current</td>\n",
       "      <td>31.01</td>\n",
       "      <td>5.0</td>\n",
       "      <td>80</td>\n",
       "      <td>NaN</td>\n",
       "    </tr>\n",
       "    <tr>\n",
       "      <th>4</th>\n",
       "      <td>43760</td>\n",
       "      <td>Male</td>\n",
       "      <td>30.0</td>\n",
       "      <td>0</td>\n",
       "      <td>0</td>\n",
       "      <td>ever</td>\n",
       "      <td>28.66</td>\n",
       "      <td>6.6</td>\n",
       "      <td>100</td>\n",
       "      <td>NaN</td>\n",
       "    </tr>\n",
       "    <tr>\n",
       "      <th>...</th>\n",
       "      <td>...</td>\n",
       "      <td>...</td>\n",
       "      <td>...</td>\n",
       "      <td>...</td>\n",
       "      <td>...</td>\n",
       "      <td>...</td>\n",
       "      <td>...</td>\n",
       "      <td>...</td>\n",
       "      <td>...</td>\n",
       "      <td>...</td>\n",
       "    </tr>\n",
       "    <tr>\n",
       "      <th>4995</th>\n",
       "      <td>88540</td>\n",
       "      <td>Female</td>\n",
       "      <td>23.0</td>\n",
       "      <td>0</td>\n",
       "      <td>0</td>\n",
       "      <td>never</td>\n",
       "      <td>22.77</td>\n",
       "      <td>6.6</td>\n",
       "      <td>200</td>\n",
       "      <td>NaN</td>\n",
       "    </tr>\n",
       "    <tr>\n",
       "      <th>4996</th>\n",
       "      <td>26701</td>\n",
       "      <td>Female</td>\n",
       "      <td>51.0</td>\n",
       "      <td>0</td>\n",
       "      <td>0</td>\n",
       "      <td>No Info</td>\n",
       "      <td>27.32</td>\n",
       "      <td>4.0</td>\n",
       "      <td>155</td>\n",
       "      <td>NaN</td>\n",
       "    </tr>\n",
       "    <tr>\n",
       "      <th>4997</th>\n",
       "      <td>47271</td>\n",
       "      <td>Male</td>\n",
       "      <td>79.0</td>\n",
       "      <td>0</td>\n",
       "      <td>0</td>\n",
       "      <td>No Info</td>\n",
       "      <td>23.80</td>\n",
       "      <td>6.0</td>\n",
       "      <td>126</td>\n",
       "      <td>NaN</td>\n",
       "    </tr>\n",
       "    <tr>\n",
       "      <th>4998</th>\n",
       "      <td>97941</td>\n",
       "      <td>Male</td>\n",
       "      <td>24.0</td>\n",
       "      <td>0</td>\n",
       "      <td>0</td>\n",
       "      <td>never</td>\n",
       "      <td>22.68</td>\n",
       "      <td>6.1</td>\n",
       "      <td>85</td>\n",
       "      <td>NaN</td>\n",
       "    </tr>\n",
       "    <tr>\n",
       "      <th>4999</th>\n",
       "      <td>47305</td>\n",
       "      <td>Female</td>\n",
       "      <td>31.0</td>\n",
       "      <td>0</td>\n",
       "      <td>0</td>\n",
       "      <td>No Info</td>\n",
       "      <td>23.69</td>\n",
       "      <td>5.7</td>\n",
       "      <td>200</td>\n",
       "      <td>NaN</td>\n",
       "    </tr>\n",
       "  </tbody>\n",
       "</table>\n",
       "<p>5000 rows × 10 columns</p>\n",
       "</div>"
      ],
      "text/plain": [
       "      patient  gender   age  hypertension  heart_disease smoking_history  \\\n",
       "0       49267    Male  53.0             0              0           never   \n",
       "1       82280  Female  22.0             0              0           never   \n",
       "2       33216  Female  37.0             0              0           never   \n",
       "3       94551  Female  29.0             0              0     not current   \n",
       "4       43760    Male  30.0             0              0            ever   \n",
       "...       ...     ...   ...           ...            ...             ...   \n",
       "4995    88540  Female  23.0             0              0           never   \n",
       "4996    26701  Female  51.0             0              0         No Info   \n",
       "4997    47271    Male  79.0             0              0         No Info   \n",
       "4998    97941    Male  24.0             0              0           never   \n",
       "4999    47305  Female  31.0             0              0         No Info   \n",
       "\n",
       "        bmi  HbA1c_level  blood_glucose_level  diabetes  \n",
       "0     31.99          4.5                  126       NaN  \n",
       "1     25.96          6.6                  130       NaN  \n",
       "2     22.24          6.2                  126       NaN  \n",
       "3     31.01          5.0                   80       NaN  \n",
       "4     28.66          6.6                  100       NaN  \n",
       "...     ...          ...                  ...       ...  \n",
       "4995  22.77          6.6                  200       NaN  \n",
       "4996  27.32          4.0                  155       NaN  \n",
       "4997  23.80          6.0                  126       NaN  \n",
       "4998  22.68          6.1                   85       NaN  \n",
       "4999  23.69          5.7                  200       NaN  \n",
       "\n",
       "[5000 rows x 10 columns]"
      ]
     },
     "execution_count": 32,
     "metadata": {},
     "output_type": "execute_result"
    }
   ],
   "source": [
    "test_df = pd.read_csv('diabetes_prediction_dataset_test.csv')\n",
    "test_df\n"
   ]
  },
  {
   "cell_type": "markdown",
   "metadata": {},
   "source": [
    "Para poder evaluar nuestra predicción los datos de prueba deben tener exactamente el mismo tratamiento que los datos de entrenamiento"
   ]
  },
  {
   "cell_type": "code",
   "execution_count": 33,
   "metadata": {},
   "outputs": [
    {
     "data": {
      "text/html": [
       "<div>\n",
       "<style scoped>\n",
       "    .dataframe tbody tr th:only-of-type {\n",
       "        vertical-align: middle;\n",
       "    }\n",
       "\n",
       "    .dataframe tbody tr th {\n",
       "        vertical-align: top;\n",
       "    }\n",
       "\n",
       "    .dataframe thead th {\n",
       "        text-align: right;\n",
       "    }\n",
       "</style>\n",
       "<table border=\"1\" class=\"dataframe\">\n",
       "  <thead>\n",
       "    <tr style=\"text-align: right;\">\n",
       "      <th></th>\n",
       "      <th>num__age</th>\n",
       "      <th>num__bmi</th>\n",
       "      <th>num__HbA1c_level</th>\n",
       "      <th>num__blood_glucose_level</th>\n",
       "      <th>num__hypertension</th>\n",
       "      <th>num__heart_disease</th>\n",
       "      <th>cat__gender_Female</th>\n",
       "      <th>cat__gender_Male</th>\n",
       "      <th>cat__gender_Other</th>\n",
       "      <th>cat__smoking_history_No Info</th>\n",
       "      <th>cat__smoking_history_current</th>\n",
       "      <th>cat__smoking_history_ever</th>\n",
       "      <th>cat__smoking_history_former</th>\n",
       "      <th>cat__smoking_history_never</th>\n",
       "      <th>cat__smoking_history_not current</th>\n",
       "    </tr>\n",
       "  </thead>\n",
       "  <tbody>\n",
       "    <tr>\n",
       "      <th>0</th>\n",
       "      <td>53.0</td>\n",
       "      <td>31.99</td>\n",
       "      <td>4.5</td>\n",
       "      <td>126.0</td>\n",
       "      <td>0.0</td>\n",
       "      <td>0.0</td>\n",
       "      <td>0.0</td>\n",
       "      <td>1.0</td>\n",
       "      <td>0.0</td>\n",
       "      <td>0.0</td>\n",
       "      <td>0.0</td>\n",
       "      <td>0.0</td>\n",
       "      <td>0.0</td>\n",
       "      <td>1.0</td>\n",
       "      <td>0.0</td>\n",
       "    </tr>\n",
       "    <tr>\n",
       "      <th>1</th>\n",
       "      <td>22.0</td>\n",
       "      <td>25.96</td>\n",
       "      <td>6.6</td>\n",
       "      <td>130.0</td>\n",
       "      <td>0.0</td>\n",
       "      <td>0.0</td>\n",
       "      <td>1.0</td>\n",
       "      <td>0.0</td>\n",
       "      <td>0.0</td>\n",
       "      <td>0.0</td>\n",
       "      <td>0.0</td>\n",
       "      <td>0.0</td>\n",
       "      <td>0.0</td>\n",
       "      <td>1.0</td>\n",
       "      <td>0.0</td>\n",
       "    </tr>\n",
       "    <tr>\n",
       "      <th>2</th>\n",
       "      <td>37.0</td>\n",
       "      <td>22.24</td>\n",
       "      <td>6.2</td>\n",
       "      <td>126.0</td>\n",
       "      <td>0.0</td>\n",
       "      <td>0.0</td>\n",
       "      <td>1.0</td>\n",
       "      <td>0.0</td>\n",
       "      <td>0.0</td>\n",
       "      <td>0.0</td>\n",
       "      <td>0.0</td>\n",
       "      <td>0.0</td>\n",
       "      <td>0.0</td>\n",
       "      <td>1.0</td>\n",
       "      <td>0.0</td>\n",
       "    </tr>\n",
       "    <tr>\n",
       "      <th>3</th>\n",
       "      <td>29.0</td>\n",
       "      <td>31.01</td>\n",
       "      <td>5.0</td>\n",
       "      <td>80.0</td>\n",
       "      <td>0.0</td>\n",
       "      <td>0.0</td>\n",
       "      <td>1.0</td>\n",
       "      <td>0.0</td>\n",
       "      <td>0.0</td>\n",
       "      <td>0.0</td>\n",
       "      <td>0.0</td>\n",
       "      <td>0.0</td>\n",
       "      <td>0.0</td>\n",
       "      <td>0.0</td>\n",
       "      <td>1.0</td>\n",
       "    </tr>\n",
       "    <tr>\n",
       "      <th>4</th>\n",
       "      <td>30.0</td>\n",
       "      <td>28.66</td>\n",
       "      <td>6.6</td>\n",
       "      <td>100.0</td>\n",
       "      <td>0.0</td>\n",
       "      <td>0.0</td>\n",
       "      <td>0.0</td>\n",
       "      <td>1.0</td>\n",
       "      <td>0.0</td>\n",
       "      <td>0.0</td>\n",
       "      <td>0.0</td>\n",
       "      <td>1.0</td>\n",
       "      <td>0.0</td>\n",
       "      <td>0.0</td>\n",
       "      <td>0.0</td>\n",
       "    </tr>\n",
       "    <tr>\n",
       "      <th>...</th>\n",
       "      <td>...</td>\n",
       "      <td>...</td>\n",
       "      <td>...</td>\n",
       "      <td>...</td>\n",
       "      <td>...</td>\n",
       "      <td>...</td>\n",
       "      <td>...</td>\n",
       "      <td>...</td>\n",
       "      <td>...</td>\n",
       "      <td>...</td>\n",
       "      <td>...</td>\n",
       "      <td>...</td>\n",
       "      <td>...</td>\n",
       "      <td>...</td>\n",
       "      <td>...</td>\n",
       "    </tr>\n",
       "    <tr>\n",
       "      <th>4995</th>\n",
       "      <td>23.0</td>\n",
       "      <td>22.77</td>\n",
       "      <td>6.6</td>\n",
       "      <td>200.0</td>\n",
       "      <td>0.0</td>\n",
       "      <td>0.0</td>\n",
       "      <td>1.0</td>\n",
       "      <td>0.0</td>\n",
       "      <td>0.0</td>\n",
       "      <td>0.0</td>\n",
       "      <td>0.0</td>\n",
       "      <td>0.0</td>\n",
       "      <td>0.0</td>\n",
       "      <td>1.0</td>\n",
       "      <td>0.0</td>\n",
       "    </tr>\n",
       "    <tr>\n",
       "      <th>4996</th>\n",
       "      <td>51.0</td>\n",
       "      <td>27.32</td>\n",
       "      <td>4.0</td>\n",
       "      <td>155.0</td>\n",
       "      <td>0.0</td>\n",
       "      <td>0.0</td>\n",
       "      <td>1.0</td>\n",
       "      <td>0.0</td>\n",
       "      <td>0.0</td>\n",
       "      <td>1.0</td>\n",
       "      <td>0.0</td>\n",
       "      <td>0.0</td>\n",
       "      <td>0.0</td>\n",
       "      <td>0.0</td>\n",
       "      <td>0.0</td>\n",
       "    </tr>\n",
       "    <tr>\n",
       "      <th>4997</th>\n",
       "      <td>79.0</td>\n",
       "      <td>23.80</td>\n",
       "      <td>6.0</td>\n",
       "      <td>126.0</td>\n",
       "      <td>0.0</td>\n",
       "      <td>0.0</td>\n",
       "      <td>0.0</td>\n",
       "      <td>1.0</td>\n",
       "      <td>0.0</td>\n",
       "      <td>1.0</td>\n",
       "      <td>0.0</td>\n",
       "      <td>0.0</td>\n",
       "      <td>0.0</td>\n",
       "      <td>0.0</td>\n",
       "      <td>0.0</td>\n",
       "    </tr>\n",
       "    <tr>\n",
       "      <th>4998</th>\n",
       "      <td>24.0</td>\n",
       "      <td>22.68</td>\n",
       "      <td>6.1</td>\n",
       "      <td>85.0</td>\n",
       "      <td>0.0</td>\n",
       "      <td>0.0</td>\n",
       "      <td>0.0</td>\n",
       "      <td>1.0</td>\n",
       "      <td>0.0</td>\n",
       "      <td>0.0</td>\n",
       "      <td>0.0</td>\n",
       "      <td>0.0</td>\n",
       "      <td>0.0</td>\n",
       "      <td>1.0</td>\n",
       "      <td>0.0</td>\n",
       "    </tr>\n",
       "    <tr>\n",
       "      <th>4999</th>\n",
       "      <td>31.0</td>\n",
       "      <td>23.69</td>\n",
       "      <td>5.7</td>\n",
       "      <td>200.0</td>\n",
       "      <td>0.0</td>\n",
       "      <td>0.0</td>\n",
       "      <td>1.0</td>\n",
       "      <td>0.0</td>\n",
       "      <td>0.0</td>\n",
       "      <td>1.0</td>\n",
       "      <td>0.0</td>\n",
       "      <td>0.0</td>\n",
       "      <td>0.0</td>\n",
       "      <td>0.0</td>\n",
       "      <td>0.0</td>\n",
       "    </tr>\n",
       "  </tbody>\n",
       "</table>\n",
       "<p>5000 rows × 15 columns</p>\n",
       "</div>"
      ],
      "text/plain": [
       "      num__age  num__bmi  num__HbA1c_level  num__blood_glucose_level  \\\n",
       "0         53.0     31.99               4.5                     126.0   \n",
       "1         22.0     25.96               6.6                     130.0   \n",
       "2         37.0     22.24               6.2                     126.0   \n",
       "3         29.0     31.01               5.0                      80.0   \n",
       "4         30.0     28.66               6.6                     100.0   \n",
       "...        ...       ...               ...                       ...   \n",
       "4995      23.0     22.77               6.6                     200.0   \n",
       "4996      51.0     27.32               4.0                     155.0   \n",
       "4997      79.0     23.80               6.0                     126.0   \n",
       "4998      24.0     22.68               6.1                      85.0   \n",
       "4999      31.0     23.69               5.7                     200.0   \n",
       "\n",
       "      num__hypertension  num__heart_disease  cat__gender_Female  \\\n",
       "0                   0.0                 0.0                 0.0   \n",
       "1                   0.0                 0.0                 1.0   \n",
       "2                   0.0                 0.0                 1.0   \n",
       "3                   0.0                 0.0                 1.0   \n",
       "4                   0.0                 0.0                 0.0   \n",
       "...                 ...                 ...                 ...   \n",
       "4995                0.0                 0.0                 1.0   \n",
       "4996                0.0                 0.0                 1.0   \n",
       "4997                0.0                 0.0                 0.0   \n",
       "4998                0.0                 0.0                 0.0   \n",
       "4999                0.0                 0.0                 1.0   \n",
       "\n",
       "      cat__gender_Male  cat__gender_Other  cat__smoking_history_No Info  \\\n",
       "0                  1.0                0.0                           0.0   \n",
       "1                  0.0                0.0                           0.0   \n",
       "2                  0.0                0.0                           0.0   \n",
       "3                  0.0                0.0                           0.0   \n",
       "4                  1.0                0.0                           0.0   \n",
       "...                ...                ...                           ...   \n",
       "4995               0.0                0.0                           0.0   \n",
       "4996               0.0                0.0                           1.0   \n",
       "4997               1.0                0.0                           1.0   \n",
       "4998               1.0                0.0                           0.0   \n",
       "4999               0.0                0.0                           1.0   \n",
       "\n",
       "      cat__smoking_history_current  cat__smoking_history_ever  \\\n",
       "0                              0.0                        0.0   \n",
       "1                              0.0                        0.0   \n",
       "2                              0.0                        0.0   \n",
       "3                              0.0                        0.0   \n",
       "4                              0.0                        1.0   \n",
       "...                            ...                        ...   \n",
       "4995                           0.0                        0.0   \n",
       "4996                           0.0                        0.0   \n",
       "4997                           0.0                        0.0   \n",
       "4998                           0.0                        0.0   \n",
       "4999                           0.0                        0.0   \n",
       "\n",
       "      cat__smoking_history_former  cat__smoking_history_never  \\\n",
       "0                             0.0                         1.0   \n",
       "1                             0.0                         1.0   \n",
       "2                             0.0                         1.0   \n",
       "3                             0.0                         0.0   \n",
       "4                             0.0                         0.0   \n",
       "...                           ...                         ...   \n",
       "4995                          0.0                         1.0   \n",
       "4996                          0.0                         0.0   \n",
       "4997                          0.0                         0.0   \n",
       "4998                          0.0                         1.0   \n",
       "4999                          0.0                         0.0   \n",
       "\n",
       "      cat__smoking_history_not current  \n",
       "0                                  0.0  \n",
       "1                                  0.0  \n",
       "2                                  0.0  \n",
       "3                                  1.0  \n",
       "4                                  0.0  \n",
       "...                                ...  \n",
       "4995                               0.0  \n",
       "4996                               0.0  \n",
       "4997                               0.0  \n",
       "4998                               0.0  \n",
       "4999                               0.0  \n",
       "\n",
       "[5000 rows x 15 columns]"
      ]
     },
     "execution_count": 33,
     "metadata": {},
     "output_type": "execute_result"
    }
   ],
   "source": [
    "Y_test = test_df.diabetes\n",
    "PatientId_test = test_df['patient']\n",
    "X_test = test_df.drop(['patient','diabetes'],axis=1)\n",
    "X_test = pd.DataFrame(preprocessor.transform(X_test), columns=preprocessor.get_feature_names_out())\n",
    "X_test"
   ]
  },
  {
   "cell_type": "markdown",
   "metadata": {},
   "source": [
    "Generamos la salida"
   ]
  },
  {
   "cell_type": "code",
   "execution_count": 34,
   "metadata": {},
   "outputs": [],
   "source": [
    "test_id = PatientId_test\n",
    "test_pred = np.int64(xgb_final.predict(X_test))"
   ]
  },
  {
   "cell_type": "markdown",
   "metadata": {},
   "source": [
    "Con el resultado predicho tenemos que generar el archivo `.csv` para subir a la competencia de kaggle:"
   ]
  },
  {
   "cell_type": "code",
   "execution_count": 35,
   "metadata": {},
   "outputs": [],
   "source": [
    "submission = pd.DataFrame(list(zip(test_id, test_pred)), columns=[\"patient\", \"diabetes\"])\n",
    "submission.to_csv(\"xgboost_no_drop_submission.csv\", header=True, index=False)"
   ]
  },
  {
   "cell_type": "code",
   "execution_count": 36,
   "metadata": {},
   "outputs": [
    {
     "data": {
      "text/html": [
       "<div>\n",
       "<style scoped>\n",
       "    .dataframe tbody tr th:only-of-type {\n",
       "        vertical-align: middle;\n",
       "    }\n",
       "\n",
       "    .dataframe tbody tr th {\n",
       "        vertical-align: top;\n",
       "    }\n",
       "\n",
       "    .dataframe thead th {\n",
       "        text-align: right;\n",
       "    }\n",
       "</style>\n",
       "<table border=\"1\" class=\"dataframe\">\n",
       "  <thead>\n",
       "    <tr style=\"text-align: right;\">\n",
       "      <th></th>\n",
       "      <th>patient</th>\n",
       "      <th>diabetes</th>\n",
       "    </tr>\n",
       "  </thead>\n",
       "  <tbody>\n",
       "    <tr>\n",
       "      <th>0</th>\n",
       "      <td>49267</td>\n",
       "      <td>0</td>\n",
       "    </tr>\n",
       "    <tr>\n",
       "      <th>1</th>\n",
       "      <td>82280</td>\n",
       "      <td>0</td>\n",
       "    </tr>\n",
       "    <tr>\n",
       "      <th>2</th>\n",
       "      <td>33216</td>\n",
       "      <td>0</td>\n",
       "    </tr>\n",
       "    <tr>\n",
       "      <th>3</th>\n",
       "      <td>94551</td>\n",
       "      <td>0</td>\n",
       "    </tr>\n",
       "    <tr>\n",
       "      <th>4</th>\n",
       "      <td>43760</td>\n",
       "      <td>0</td>\n",
       "    </tr>\n",
       "    <tr>\n",
       "      <th>...</th>\n",
       "      <td>...</td>\n",
       "      <td>...</td>\n",
       "    </tr>\n",
       "    <tr>\n",
       "      <th>4995</th>\n",
       "      <td>88540</td>\n",
       "      <td>0</td>\n",
       "    </tr>\n",
       "    <tr>\n",
       "      <th>4996</th>\n",
       "      <td>26701</td>\n",
       "      <td>0</td>\n",
       "    </tr>\n",
       "    <tr>\n",
       "      <th>4997</th>\n",
       "      <td>47271</td>\n",
       "      <td>1</td>\n",
       "    </tr>\n",
       "    <tr>\n",
       "      <th>4998</th>\n",
       "      <td>97941</td>\n",
       "      <td>0</td>\n",
       "    </tr>\n",
       "    <tr>\n",
       "      <th>4999</th>\n",
       "      <td>47305</td>\n",
       "      <td>0</td>\n",
       "    </tr>\n",
       "  </tbody>\n",
       "</table>\n",
       "<p>5000 rows × 2 columns</p>\n",
       "</div>"
      ],
      "text/plain": [
       "      patient  diabetes\n",
       "0       49267         0\n",
       "1       82280         0\n",
       "2       33216         0\n",
       "3       94551         0\n",
       "4       43760         0\n",
       "...       ...       ...\n",
       "4995    88540         0\n",
       "4996    26701         0\n",
       "4997    47271         1\n",
       "4998    97941         0\n",
       "4999    47305         0\n",
       "\n",
       "[5000 rows x 2 columns]"
      ]
     },
     "execution_count": 36,
     "metadata": {},
     "output_type": "execute_result"
    }
   ],
   "source": [
    "submission"
   ]
  },
  {
   "cell_type": "markdown",
   "metadata": {},
   "source": []
  }
 ],
 "metadata": {
  "kernelspec": {
   "display_name": ".venv",
   "language": "python",
   "name": "python3"
  },
  "language_info": {
   "codemirror_mode": {
    "name": "ipython",
    "version": 3
   },
   "file_extension": ".py",
   "mimetype": "text/x-python",
   "name": "python",
   "nbconvert_exporter": "python",
   "pygments_lexer": "ipython3",
   "version": "3.13.3"
  }
 },
 "nbformat": 4,
 "nbformat_minor": 2
}
